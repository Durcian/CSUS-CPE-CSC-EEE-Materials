{
 "cells": [
  {
   "cell_type": "markdown",
   "metadata": {},
   "source": [
    "# Mini-Project 3: Classification\n",
    "Jimmy Sisenglath, Eric Pham, Justin Eugenio"
   ]
  },
  {
   "cell_type": "code",
   "execution_count": 1,
   "metadata": {},
   "outputs": [],
   "source": [
    "# Import libraries.\n",
    "import pandas as pd\n",
    "import numpy as np\n",
    "import matplotlib.pyplot as plt\n",
    "%matplotlib inline\n",
    "import sklearn.feature_extraction.text as sk_text\n",
    "\n",
    "from sklearn import tree # Decision Tree.\n",
    "from sklearn import metrics\n",
    "from sklearn.svm import SVC # Support Vector Machine.\n",
    "from sklearn.preprocessing import OneHotEncoder # One-hot encoding.\n",
    "from sklearn.neighbors import KNeighborsClassifier # k-NN\n",
    "from sklearn.linear_model import LogisticRegression # Logistic Regression.\n",
    "from sklearn.preprocessing import StandardScaler # Neural networks.\n",
    "from sklearn.neural_network import MLPClassifier # Neural networks.\n",
    "from sklearn.model_selection import cross_val_score # Cross validation.\n",
    "from sklearn.model_selection import train_test_split, GridSearchCV # Grid search."
   ]
  },
  {
   "cell_type": "markdown",
   "metadata": {},
   "source": [
    "# 1. Classification of Twitter Users\n",
    "- In this project you will use the **original data you used in Project 1**. You will practice with algorithms for classification. **The goal of this project is to create classification models that predict if a user is a follower of Trump or Clinton.** In the file “clinton_trump_user_classes.txt”, we have the ground truth “class” membership for each user id in the data. Class 0 corresponds to Trump followers, while class 1 corresponds to Clinton followers."
   ]
  },
  {
   "cell_type": "code",
   "execution_count": 2,
   "metadata": {
    "scrolled": true
   },
   "outputs": [
    {
     "data": {
      "text/html": [
       "<div>\n",
       "<style scoped>\n",
       "    .dataframe tbody tr th:only-of-type {\n",
       "        vertical-align: middle;\n",
       "    }\n",
       "\n",
       "    .dataframe tbody tr th {\n",
       "        vertical-align: top;\n",
       "    }\n",
       "\n",
       "    .dataframe thead th {\n",
       "        text-align: right;\n",
       "    }\n",
       "</style>\n",
       "<table border=\"1\" class=\"dataframe\">\n",
       "  <thead>\n",
       "    <tr style=\"text-align: right;\">\n",
       "      <th></th>\n",
       "      <th>Name</th>\n",
       "      <th>ScreenName</th>\n",
       "      <th>UserID</th>\n",
       "      <th>FollowersCount</th>\n",
       "      <th>FriendsCount</th>\n",
       "      <th>Location</th>\n",
       "      <th>Description</th>\n",
       "      <th>CreatedAt</th>\n",
       "      <th>StatusID</th>\n",
       "      <th>Language</th>\n",
       "      <th>Place</th>\n",
       "      <th>RetweetCount</th>\n",
       "      <th>FavoriteCount</th>\n",
       "      <th>Text</th>\n",
       "    </tr>\n",
       "  </thead>\n",
       "  <tbody>\n",
       "    <tr>\n",
       "      <th>0</th>\n",
       "      <td>Cebel</td>\n",
       "      <td>Cebel6</td>\n",
       "      <td>1519696717</td>\n",
       "      <td>132</td>\n",
       "      <td>263</td>\n",
       "      <td>Little Rock, Arkansas</td>\n",
       "      <td>Arkansas Razorback Fan Just trying to be #Uncommon one 1-0 day at a time.</td>\n",
       "      <td>Sat Oct 29 08:10:06 EEST 2016</td>\n",
       "      <td>792232017094119425</td>\n",
       "      <td>en</td>\n",
       "      <td>NaN</td>\n",
       "      <td>0</td>\n",
       "      <td>1</td>\n",
       "      <td>@NWAJimmy I've read it now though brother. Was pretty spot on Lots of bright spots but a lot to work on. Exactly as an exhibition should be!</td>\n",
       "    </tr>\n",
       "    <tr>\n",
       "      <th>1</th>\n",
       "      <td>Cookie</td>\n",
       "      <td>Cookiemuffen</td>\n",
       "      <td>109945090</td>\n",
       "      <td>2154</td>\n",
       "      <td>2034</td>\n",
       "      <td>The American South</td>\n",
       "      <td>Got married after college. I don't regret starting a family instead of grad school. Proud Deplorable</td>\n",
       "      <td>Wed Oct 26 18:44:08 EEST 2016</td>\n",
       "      <td>791304413923213312</td>\n",
       "      <td>en</td>\n",
       "      <td>NaN</td>\n",
       "      <td>1937</td>\n",
       "      <td>0</td>\n",
       "      <td>RT @wikileaks: New poll puts Pirate Party on course to win Iceland's national elections on Saturday. https://t.co/edTqjeJaQ6</td>\n",
       "    </tr>\n",
       "    <tr>\n",
       "      <th>2</th>\n",
       "      <td>nolaguy</td>\n",
       "      <td>nolaguy_phd</td>\n",
       "      <td>1450086582</td>\n",
       "      <td>797</td>\n",
       "      <td>1188</td>\n",
       "      <td>NaN</td>\n",
       "      <td>An LSU Ph.D student living in New Orleans, trying to find a second act.</td>\n",
       "      <td>Sat Oct 29 21:53:29 EEST 2016</td>\n",
       "      <td>792439227090767872</td>\n",
       "      <td>en</td>\n",
       "      <td>NaN</td>\n",
       "      <td>0</td>\n",
       "      <td>0</td>\n",
       "      <td>@gaystoner821 I think New Orleans spoiled me with food. I need to try and branch out in BR.</td>\n",
       "    </tr>\n",
       "    <tr>\n",
       "      <th>3</th>\n",
       "      <td>Mark Hager</td>\n",
       "      <td>marksnark</td>\n",
       "      <td>167177185</td>\n",
       "      <td>204</td>\n",
       "      <td>448</td>\n",
       "      <td>Pittsburgh</td>\n",
       "      <td>Hip, trendy, smart, funny, fit, lobbyist. U? Boilerplate: these thoughts are my own, not anyone else's. Hmmmkay?</td>\n",
       "      <td>Wed Oct 26 00:33:20 EEST 2016</td>\n",
       "      <td>791029904733331457</td>\n",
       "      <td>en</td>\n",
       "      <td>NaN</td>\n",
       "      <td>891</td>\n",
       "      <td>0</td>\n",
       "      <td>RT @LOLGOP: ACA needs fixes but know da facts:  *70% can get covered in marketplaces for under $75/month  *Hikes affect 3% *GOP will uninsu</td>\n",
       "    </tr>\n",
       "    <tr>\n",
       "      <th>4</th>\n",
       "      <td>Capitalist Creations</td>\n",
       "      <td>aaronjhoddinott</td>\n",
       "      <td>1191022351</td>\n",
       "      <td>775</td>\n",
       "      <td>154</td>\n",
       "      <td>Canada</td>\n",
       "      <td>Entrepreneur, startup investor, political junkie, free market supporter, beer connoisseur, dad and dog lover. Also a golf enthusiast despite my lack of skill.</td>\n",
       "      <td>Fri Oct 28 05:05:10 EEST 2016</td>\n",
       "      <td>791823089700962304</td>\n",
       "      <td>en</td>\n",
       "      <td>NaN</td>\n",
       "      <td>7</td>\n",
       "      <td>0</td>\n",
       "      <td>RT @FastCompany: Alphabet shares soar on better-than-expected earnings as mobile video strategy pays off https://t.co/bokbXngMJt https://t.</td>\n",
       "    </tr>\n",
       "  </tbody>\n",
       "</table>\n",
       "</div>"
      ],
      "text/plain": [
       "                   Name       ScreenName      UserID  FollowersCount  \\\n",
       "0  Cebel                 Cebel6           1519696717  132              \n",
       "1  Cookie                Cookiemuffen     109945090   2154             \n",
       "2  nolaguy               nolaguy_phd      1450086582  797              \n",
       "3  Mark Hager            marksnark        167177185   204              \n",
       "4  Capitalist Creations  aaronjhoddinott  1191022351  775              \n",
       "\n",
       "   FriendsCount               Location  \\\n",
       "0  263           Little Rock, Arkansas   \n",
       "1  2034          The American South      \n",
       "2  1188          NaN                     \n",
       "3  448           Pittsburgh              \n",
       "4  154           Canada                  \n",
       "\n",
       "                                                                                                                                                      Description  \\\n",
       "0  Arkansas Razorback Fan Just trying to be #Uncommon one 1-0 day at a time.                                                                                        \n",
       "1  Got married after college. I don't regret starting a family instead of grad school. Proud Deplorable                                                             \n",
       "2  An LSU Ph.D student living in New Orleans, trying to find a second act.                                                                                          \n",
       "3  Hip, trendy, smart, funny, fit, lobbyist. U? Boilerplate: these thoughts are my own, not anyone else's. Hmmmkay?                                                 \n",
       "4  Entrepreneur, startup investor, political junkie, free market supporter, beer connoisseur, dad and dog lover. Also a golf enthusiast despite my lack of skill.   \n",
       "\n",
       "                       CreatedAt            StatusID Language Place  \\\n",
       "0  Sat Oct 29 08:10:06 EEST 2016  792232017094119425  en       NaN    \n",
       "1  Wed Oct 26 18:44:08 EEST 2016  791304413923213312  en       NaN    \n",
       "2  Sat Oct 29 21:53:29 EEST 2016  792439227090767872  en       NaN    \n",
       "3  Wed Oct 26 00:33:20 EEST 2016  791029904733331457  en       NaN    \n",
       "4  Fri Oct 28 05:05:10 EEST 2016  791823089700962304  en       NaN    \n",
       "\n",
       "   RetweetCount  FavoriteCount  \\\n",
       "0  0             1               \n",
       "1  1937          0               \n",
       "2  0             0               \n",
       "3  891           0               \n",
       "4  7             0               \n",
       "\n",
       "                                                                                                                                           Text  \n",
       "0  @NWAJimmy I've read it now though brother. Was pretty spot on Lots of bright spots but a lot to work on. Exactly as an exhibition should be!  \n",
       "1  RT @wikileaks: New poll puts Pirate Party on course to win Iceland's national elections on Saturday. https://t.co/edTqjeJaQ6                  \n",
       "2  @gaystoner821 I think New Orleans spoiled me with food. I need to try and branch out in BR.                                                   \n",
       "3  RT @LOLGOP: ACA needs fixes but know da facts:  *70% can get covered in marketplaces for under $75/month  *Hikes affect 3% *GOP will uninsu   \n",
       "4  RT @FastCompany: Alphabet shares soar on better-than-expected earnings as mobile video strategy pays off https://t.co/bokbXngMJt https://t.   "
      ]
     },
     "execution_count": 2,
     "metadata": {},
     "output_type": "execute_result"
    }
   ],
   "source": [
    "# Read the 2016 Presidential election tweets and assigned column names. \n",
    "\n",
    "# Produces the tweet column name title on top of the table. Record type.\n",
    "columns = ['Name', 'ScreenName', 'UserID', 'FollowersCount', 'FriendsCount','Location', 'Description', 'CreatedAt', 'StatusID', 'Language', 'Place', 'RetweetCount','FavoriteCount', 'Text']\n",
    "\n",
    "# Old dataframe. Use the original data you used in Project 1.\n",
    "tweets = pd.read_table('clinton_trump_tweets.txt', header=None, names=columns, encoding=\"ISO-8859-1\")\n",
    "pd.set_option('display.max_colwidth', -1) # Shows the whole message in the records.\n",
    "\n",
    "# Prepare ground truth. Predict if a user is a follower of \"Trump or Clinton (Supporter)\".\n",
    "# ground_truth = pd.read_table('data/clinton_trump_user_classes.txt', names=[\"UserID\", \"Supporter\"], dtype=int, encoding =\"ISO-8859-1\")\n",
    "\n",
    "# Show first 5 records.\n",
    "tweets.head()"
   ]
  },
  {
   "cell_type": "code",
   "execution_count": 3,
   "metadata": {},
   "outputs": [],
   "source": [
    "# Drop unused columns.\n",
    "tweets = tweets.drop(columns=['Name','ScreenName','FollowersCount','FriendsCount', 'Description','CreatedAt','StatusID','Language','Place','RetweetCount','FavoriteCount'])"
   ]
  },
  {
   "cell_type": "code",
   "execution_count": 4,
   "metadata": {},
   "outputs": [],
   "source": [
    "# Drop null values in 'Location'.\n",
    "# dropna: remove missing values.\n",
    "tweets = tweets.dropna(subset=['Location'])"
   ]
  },
  {
   "cell_type": "markdown",
   "metadata": {},
   "source": [
    "# Task 1.1\n",
    "- Remove all retweets first. Remove all users that have less than 20 tweets. You may want to keep the entire tweet content, including hashtags/handles. For the remaining users, use **all available information in the dataset that you consider useful to create features** for classification (such as **Location, Description, Place**). You are also encouraged to use any conclusions you draw in Project 2 (clustering) to create any features to improve the classification result. **Use train_test_split() to split data into training and test sets, where 20 percent of the records go to test set.**"
   ]
  },
  {
   "cell_type": "markdown",
   "metadata": {},
   "source": [
    "## *Remove all retweets first.*"
   ]
  },
  {
   "cell_type": "code",
   "execution_count": 5,
   "metadata": {},
   "outputs": [
    {
     "data": {
      "text/html": [
       "<div>\n",
       "<style scoped>\n",
       "    .dataframe tbody tr th:only-of-type {\n",
       "        vertical-align: middle;\n",
       "    }\n",
       "\n",
       "    .dataframe tbody tr th {\n",
       "        vertical-align: top;\n",
       "    }\n",
       "\n",
       "    .dataframe thead th {\n",
       "        text-align: right;\n",
       "    }\n",
       "</style>\n",
       "<table border=\"1\" class=\"dataframe\">\n",
       "  <thead>\n",
       "    <tr style=\"text-align: right;\">\n",
       "      <th></th>\n",
       "      <th>UserID</th>\n",
       "      <th>Location</th>\n",
       "      <th>Text</th>\n",
       "    </tr>\n",
       "  </thead>\n",
       "  <tbody>\n",
       "    <tr>\n",
       "      <th>0</th>\n",
       "      <td>1519696717</td>\n",
       "      <td>Little Rock, Arkansas</td>\n",
       "      <td>@NWAJimmy I've read it now though brother. Was pretty spot on Lots of bright spots but a lot to work on. Exactly as an exhibition should be!</td>\n",
       "    </tr>\n",
       "    <tr>\n",
       "      <th>6</th>\n",
       "      <td>106568768</td>\n",
       "      <td>Dallas, TX</td>\n",
       "      <td>#infosec #Intel #ACM #IEEE  Impacts Haswell microarch. Paper proposes mitigations that could prevent BTB-based side https://t.co/DW6vgRAPrv</td>\n",
       "    </tr>\n",
       "    <tr>\n",
       "      <th>7</th>\n",
       "      <td>17101060</td>\n",
       "      <td>The Universe</td>\n",
       "      <td>Hacked e-mails show Clinton campaigns fears about Sanders | https://t.co/WMyCHuCDIc   The Philippine Star (PhilippineStar) October 28, 2</td>\n",
       "    </tr>\n",
       "    <tr>\n",
       "      <th>10</th>\n",
       "      <td>16818809</td>\n",
       "      <td>Long Island and beyond...</td>\n",
       "      <td>Hulk smash!</td>\n",
       "    </tr>\n",
       "    <tr>\n",
       "      <th>12</th>\n",
       "      <td>163712593</td>\n",
       "      <td>Portland, Oregon</td>\n",
       "      <td>Well, I'm glad you got a good haircut, America's in the toilet. Is this not a conversation @Haylie_Bre and I woul https://t.co/6dVIIKZcgv</td>\n",
       "    </tr>\n",
       "  </tbody>\n",
       "</table>\n",
       "</div>"
      ],
      "text/plain": [
       "        UserID                   Location  \\\n",
       "0   1519696717  Little Rock, Arkansas       \n",
       "6   106568768   Dallas, TX                  \n",
       "7   17101060    The Universe                \n",
       "10  16818809    Long Island and beyond...   \n",
       "12  163712593   Portland, Oregon            \n",
       "\n",
       "                                                                                                                                            Text  \n",
       "0   @NWAJimmy I've read it now though brother. Was pretty spot on Lots of bright spots but a lot to work on. Exactly as an exhibition should be!  \n",
       "6   #infosec #Intel #ACM #IEEE  Impacts Haswell microarch. Paper proposes mitigations that could prevent BTB-based side https://t.co/DW6vgRAPrv   \n",
       "7   Hacked e-mails show Clinton campaigns fears about Sanders | https://t.co/WMyCHuCDIc   The Philippine Star (PhilippineStar) October 28, 2      \n",
       "10  Hulk smash!                                                                                                                                   \n",
       "12  Well, I'm glad you got a good haircut, America's in the toilet. Is this not a conversation @Haylie_Bre and I woul https://t.co/6dVIIKZcgv     "
      ]
     },
     "execution_count": 5,
     "metadata": {},
     "output_type": "execute_result"
    }
   ],
   "source": [
    "tweets = tweets.drop(tweets[(tweets.Text.str.startswith(\"RT\"))].index)\n",
    "\n",
    "tweets.head()"
   ]
  },
  {
   "cell_type": "markdown",
   "metadata": {},
   "source": [
    "## *Remove all users that have less than 20 tweets. You may want to keep the entire tweet content, including hashtags/handles.*"
   ]
  },
  {
   "cell_type": "code",
   "execution_count": 6,
   "metadata": {
    "scrolled": true
   },
   "outputs": [
    {
     "data": {
      "text/plain": [
       "UserID\n",
       "1971604699    3018\n",
       "15501305      2493\n",
       "17197477      2321\n",
       "1732989216    2210\n",
       "23719043      2133\n",
       "Name: Text, dtype: int64"
      ]
     },
     "execution_count": 6,
     "metadata": {},
     "output_type": "execute_result"
    }
   ],
   "source": [
    "# Use group by and count to retrive amounts of tweets for each individual UserID from database.\n",
    "top_users = tweets.groupby('UserID').Text.count().sort_values(ascending=False)\n",
    "\n",
    "# Include users with >= 20 tweets.\n",
    "top_users = top_users[top_users>=20]\n",
    "\n",
    "top_users.head()"
   ]
  },
  {
   "cell_type": "code",
   "execution_count": 7,
   "metadata": {},
   "outputs": [
    {
     "data": {
      "text/html": [
       "<div>\n",
       "<style scoped>\n",
       "    .dataframe tbody tr th:only-of-type {\n",
       "        vertical-align: middle;\n",
       "    }\n",
       "\n",
       "    .dataframe tbody tr th {\n",
       "        vertical-align: top;\n",
       "    }\n",
       "\n",
       "    .dataframe thead th {\n",
       "        text-align: right;\n",
       "    }\n",
       "</style>\n",
       "<table border=\"1\" class=\"dataframe\">\n",
       "  <thead>\n",
       "    <tr style=\"text-align: right;\">\n",
       "      <th></th>\n",
       "      <th>UserID</th>\n",
       "      <th>Location</th>\n",
       "      <th>Text</th>\n",
       "    </tr>\n",
       "  </thead>\n",
       "  <tbody>\n",
       "    <tr>\n",
       "      <th>0</th>\n",
       "      <td>1519696717</td>\n",
       "      <td>Little Rock, Arkansas</td>\n",
       "      <td>@NWAJimmy I've read it now though brother. Was pretty spot on Lots of bright spots but a lot to work on. Exactly as an exhibition should be!</td>\n",
       "    </tr>\n",
       "    <tr>\n",
       "      <th>6</th>\n",
       "      <td>106568768</td>\n",
       "      <td>Dallas, TX</td>\n",
       "      <td>#infosec #Intel #ACM #IEEE  Impacts Haswell microarch. Paper proposes mitigations that could prevent BTB-based side https://t.co/DW6vgRAPrv</td>\n",
       "    </tr>\n",
       "    <tr>\n",
       "      <th>7</th>\n",
       "      <td>17101060</td>\n",
       "      <td>The Universe</td>\n",
       "      <td>Hacked e-mails show Clinton campaigns fears about Sanders | https://t.co/WMyCHuCDIc   The Philippine Star (PhilippineStar) October 28, 2</td>\n",
       "    </tr>\n",
       "    <tr>\n",
       "      <th>10</th>\n",
       "      <td>16818809</td>\n",
       "      <td>Long Island and beyond...</td>\n",
       "      <td>Hulk smash!</td>\n",
       "    </tr>\n",
       "    <tr>\n",
       "      <th>12</th>\n",
       "      <td>163712593</td>\n",
       "      <td>Portland, Oregon</td>\n",
       "      <td>Well, I'm glad you got a good haircut, America's in the toilet. Is this not a conversation @Haylie_Bre and I woul https://t.co/6dVIIKZcgv</td>\n",
       "    </tr>\n",
       "  </tbody>\n",
       "</table>\n",
       "</div>"
      ],
      "text/plain": [
       "        UserID                   Location  \\\n",
       "0   1519696717  Little Rock, Arkansas       \n",
       "6   106568768   Dallas, TX                  \n",
       "7   17101060    The Universe                \n",
       "10  16818809    Long Island and beyond...   \n",
       "12  163712593   Portland, Oregon            \n",
       "\n",
       "                                                                                                                                            Text  \n",
       "0   @NWAJimmy I've read it now though brother. Was pretty spot on Lots of bright spots but a lot to work on. Exactly as an exhibition should be!  \n",
       "6   #infosec #Intel #ACM #IEEE  Impacts Haswell microarch. Paper proposes mitigations that could prevent BTB-based side https://t.co/DW6vgRAPrv   \n",
       "7   Hacked e-mails show Clinton campaigns fears about Sanders | https://t.co/WMyCHuCDIc   The Philippine Star (PhilippineStar) October 28, 2      \n",
       "10  Hulk smash!                                                                                                                                   \n",
       "12  Well, I'm glad you got a good haircut, America's in the toilet. Is this not a conversation @Haylie_Bre and I woul https://t.co/6dVIIKZcgv     "
      ]
     },
     "execution_count": 7,
     "metadata": {},
     "output_type": "execute_result"
    }
   ],
   "source": [
    "# Refresh dataframe with UserID that have 20 tweets or more.\n",
    "# Using isin, if the userID is in the 'top_users' list.\n",
    "tweets =  tweets[tweets['UserID'].isin(top_users.index.tolist())]\n",
    "\n",
    "tweets.head()"
   ]
  },
  {
   "cell_type": "code",
   "execution_count": 8,
   "metadata": {},
   "outputs": [
    {
     "data": {
      "text/html": [
       "<div>\n",
       "<style scoped>\n",
       "    .dataframe tbody tr th:only-of-type {\n",
       "        vertical-align: middle;\n",
       "    }\n",
       "\n",
       "    .dataframe tbody tr th {\n",
       "        vertical-align: top;\n",
       "    }\n",
       "\n",
       "    .dataframe thead th {\n",
       "        text-align: right;\n",
       "    }\n",
       "</style>\n",
       "<table border=\"1\" class=\"dataframe\">\n",
       "  <thead>\n",
       "    <tr style=\"text-align: right;\">\n",
       "      <th></th>\n",
       "      <th>UserID</th>\n",
       "      <th>Location</th>\n",
       "      <th>Text</th>\n",
       "    </tr>\n",
       "  </thead>\n",
       "  <tbody>\n",
       "    <tr>\n",
       "      <th>0</th>\n",
       "      <td>1737</td>\n",
       "      <td>In my head</td>\n",
       "      <td>Listening to @nehanarkhede talk about event streams at #ATO2016 and thinking about how to continue evolving our Kafka-based pipeline.Related, man would I love to have @erinscafe as a coach for my kids.If youre interested in processing streaming data at scale, @MailChimp is hiring: https://t.co/MYxL4mCkaC Come see us if youre at #ATO2016.@rachaelmaddux Just when I think I couldnt love her more.If you coach or have kids in youth sports, this is well worth reading. https://t.co/BEdjKmZ28H@_raven_io @pwnela Im well past the three month mark and still not sure Im setwhich is cool, but could be distressing if unexpected.Moving on to discussion of IoT, ML, and AR by @GregU. (Lots of buzzwords there.) Just learning of @PTC's acquisition of @Vuforia. #ATO2016Wish @nehanarkhede had asked how many were actively using Kafka. I suspect it would have still been sizable. https://t.co/OVy8zXHeiT@erinscafe @salrelish I'm pretty reserved, but if this happened to a team I coached or had kid onI don't know how I'd handle it. Appalling.@KyFaSt Congrats! Super happy for you and happy to get to work with you as any sort of engineeror just plain person.Starting day at #ATO2016. Looking forward to keynotesparticularly @nehanarkhede and talks through the day. Come see us at @MailChimp booth@SwiftOnSecurity @dcloues Wow. Imagine the world in which cat pictures are the stupidest thing. Can one get transferred into that world?@nehanarkhede @jessfraz Wondered whether you'd mention in your keynote. LOLed when you did.Also related, youth sports is full of coaches like @erinscafe who give so much time and care to kids. The bad ones shouldn't be tolerated.@nehanarkhede Im hoping that wasnt as cringeworthy at I fear it was. Looking forward to your keynote.Just listened to @solrac901  discuss @ApacheSpot. Thinking of possible new applications for ML at @MailChimp. #ATO2016@adickerson  @ComfortablySmug I could not be more intrigued than by a topic recommended by both Drudge and @jdickerson.@skamille cats don't care. Just look at the expression.@Michael_Tsunam1 @samnesmith Important clarification. I was concerned for a bit there.@bakins Im so sorry.@JessicaMauerhan If youre still around and interested, I held some swag for you at the booth. Were to the right as you enter building.</td>\n",
       "    </tr>\n",
       "    <tr>\n",
       "      <th>1</th>\n",
       "      <td>2391</td>\n",
       "      <td>San Francisco</td>\n",
       "      <td>@NathanFGao The generous view: Maybe it's just impossible to lead two public companies at the same time well.If Huma Abedin can get out of bed and face the world every day, then nothing should be stopping me.@bonaventuresoft oh no god no. Worst job.   I appreciate the sentiment!@presserb @petshopboys the fox in oaklandBottle of Fat Tire I found in the back of my fridge when I got home, I love you.Facebook lets advertisers exclude users by race https://t.co/DDmz3feofO@eldescanso I normally do all my work in google.Uninstall @ Mule Gallery https://t.co/UuNJKfChkv@buzz so good!@andymatic Yeaaah. It's sadly Yahoo!-like.   A lot of people are using it, but we haven't deciding what it's for.Going to @petshopboys tonight!   I'll be the one in front of the stage who smells like wet dog.@mknepprath Oh thanks. It just exposes the flaw in that sort of rating system.@dansinker Then you are living some Harlan Ellison level science horror.California is ridiculous. It's not like we're out of room, not by a longshot.   I bet housing density is good for water conservation too.See also: People who think \"gay\" is an insult. https://t.co/sW73Mw9KGXGOAT Salon with Annalee Newitz! https://t.co/lSTSJiXxtOThanks to internet trolls, that episode of Black Mirror seems so real. (Fortunately, Google reviews aren't a major https://t.co/saJCkbUmrn@willsh well done, sirPet Shop Boys. Still going strong. https://t.co/vGZQUkmaoo@j3sse_pub @petshopboys Go West was the pre encore closer. I got right up to the rail for that one.@thelastwalt fight them!!!The first step to clear communication is a clear goal.   It's surprising how many organizations lack sufficiently clear goals.Fun fact: Franz Kafka was a workers' compensation insurance claims officer.Is a sleeping bag a sandwich?Happy place https://t.co/FmLDQVavBJ@tonx the frightful paradox of 2016@MikeIsaac @fmanjoo Start with this!  Easy plus tasty plus fast. https://t.co/3YS56Ee50TVice has fewer neonazis. https://t.co/OZsWAkeFnXI tried it when I couldn't sleep. Worked!  Neuroscience Says Listening to This Song Reduces Anxiety by Up to 65%  https://t.co/kHLOQHVgIN@migurski yes!! Me tooThis is upsetting. https://t.co/OCsq9LFU9e@rtraister Very little of it joyful.@atrubens Maybe @twitter is bad at you.@j3sse_pub @petshopboys here you go! https://t.co/yWFqbGDS0jDAMMIT.   That untitled document I just closed without saving were my rescued revisions. I didn't realize my machine crashed. fml@clearwriter I never work in Word anymore. I'm always in the cloud, so I've lost my twitchy save finger.And man, there are gross exes. There are gross exes who pop up in your professional life. And then there's what she is dealing with.Tonight's vocabulary term is \"American Bottom\"  https://t.co/UGSq0Wuy7vRaise your hand if you're sadly resigned to @twitter's ultimate demise.What's this? https://t.co/wXViGJFlSh@timbuckwalter thats the part of our operation thats#'s open to the publicAnti-aging lasers come in more than one variety. https://t.co/MbzTwPs5Ms@scarequotes Makes you think, huh?When I'd get anxious, I used to think about how hard Obama's days were and how he got through it. Then I switched to Hillary. Now it's Huma.In the public pool shower, I stepped on something sharp. Pulled a tiny four-leaf clover ear stud out of my foot.  Unpacking the symbolism.This video gives new meaning to \"party of Lincoln\"  https://t.co/ms69JX2E1n  h/t @kathrynyu@summersumz thank you!@steveportigal @billder OK, now that's going on a mug.@NathanFGao I don't think so. But I think there was a hope that jack had special powers. Some return of the king myth.I agree. Twitter users do amazing things using the platform. Product approach is \"Now, respond to hate speech with https://t.co/PmaSqww9aH@robynkanner Ice cream@thelastwalt (Do not fight them)@clearwriter I am so cranky now.@hhavrilesky @TheCut It continues to creep me out when people refer to me as my dog's \"mom\", which is the common parlance in SF.Also, you have to know your audience.   A spreadsheet full of responses to a marketing survey is not that.In case there was any doubt bros are currently in charge of the future https://t.co/oiMCuLeeis@tonx right?!?@bjheinley @kowitz Boy do I have answer for you!  https://t.co/zQwBhuHVqYThe pleasant is the enemy of the transcendent. https://t.co/GgHfTaHGJB@yodamay This could be my new favorite band.Tell all your friends in Berlin.  November 7th, go to my delightful, practical workshop on collaborative research!  https://t.co/6ZLGeeFABU@BenKennerly Hmm, I'll put that investigation in my queue.It started in the office across the hall from us. Another era.@michael One of the reviewers gave us 5 stars for the free clinic and sex work.@MaxTemkin just a couple more weeks@lmc @nczeitgeist They should rebrand to \"The Clowns\" in honor of 2016@kathrynyu @dansays Well, now I have a new life list item! Seeing that!Listening to Piketty's *Capital* is relaxing.The most mundane frustrations have inspired great art.I suddenly have 2 xtra GA tix. If you and a friend can be near the Fox in an hour, they can be yours.@tonx sounds rightMaybe we should read these aloud at Mule Nog this year, like Mean Tweets.   https://t.co/6ViwRJZLodThere is only one communication strategy. Be specific, interesting, &amp; useful to your audience.  Yes, this is hard. No, there is no shortcut.This is the only media I am going to expose myself to for the remainder of 2016. https://t.co/94pMUKSYX5NB: @Annaleen recommends Ghostland: An American History in Haunted Places by Colin Dickey https://t.co/eUB0dwLcQ5In this impassioned plea, @TimGunn is talking fashion, but it applies to all designers who disdain \"regular\" people: https://t.co/MNvCm941oS@atrubens @twitter Prepare your torches, I guess.@mnik bugs bunny style!</td>\n",
       "    </tr>\n",
       "    <tr>\n",
       "      <th>2</th>\n",
       "      <td>2426</td>\n",
       "      <td>SF</td>\n",
       "      <td>@MikeIsaac Maybe the dog is cashing the checks Mike.@thelancearthur So good.Yeah. It was.  https://t.co/CW84E3GB7bWhen your mom opens her mouth. https://t.co/syNVYmvGrqAnd for the love of god, stop trying to make the Apple Watch a thing. Its not a thing. Its Apples third nipple. Move on.This is true only in a world where men and women are held to the same standard. https://t.co/vAU7bqRFOZ@FFWglobal Hey! Been trying to get in touch with you people. Gimme a shout. (It's a good thing.)@SenFeinstein, another one killed by guns in Lincoln today. What will you do about it? https://t.co/6hM1dG0BHF #shootatweet@SenFeinstein, another one killed by guns in Los Angeles today. What will you do about it? https://t.co/V5lJ1hWcCf #shootatweetDesigners have conflated being in the service industry with being servants. We stopped solving problems and became lapdogs to luxury brands.@NancyPelosi, another one killed by guns in Los Angeles today. What will you do about it? https://t.co/NbtGsxMYLq #shootatweetFind your voice. It matters and we need it. New from @abookapart: Demystifying Public Speaking https://t.co/bks79xQJKWYou also arent required to defend how advertising works. https://t.co/yFEnQk76z3@SenatorBoxer, another one killed by guns in Los Angeles today. What will you do about it? https://t.co/NbtGsxMYLq #shootatweetThe best strategy the @GOP has come up with against a VERY qualified woman is the men in her life are idiots.   [many women are nodding]@united You are bad at what you do. Amazingly bad.@designhawg @JoeGermuska @knightlab Awesome. We need them to do good work.Facebook allows advertisers to exclude users by race. Exclude. Users. By. Race. https://t.co/aZLejiqmByYou can either design for brands or you can design for people. You cant do both.@MikeIsaac OMG thats rich.Leaving your mark on everything like a spraying tomcat isnt creativity. Its just entitlement writ large.@NancyPelosi, another one killed by guns in Sacramento today. What will you do about it? https://t.co/5NLbMxJmnn #shootatweet@NancyPelosi, another one killed by guns in Los Angeles today. What will you do about it? https://t.co/V5lJ1hWcCf #shootatweetPlease try to remember that Julian Assange is fighting extradition for RAPE charges. Hes not a patriot. Hes a selfish entitled asshole.Hey, thanks for spoiling that new Walking Dead episode, everybody.@Real_TJ_Thomas @gruber Well, yeah. I think we all agree there.Guess what, dudes? You were BORN privileged. As the great Ann Richards once said, you were born on third base, thinking you hit a triple.EVEN IF all the failures Trump accuses Hillary of ARE true (theyre not) theyd still be just a small fraction of his ACTUAL failures.This email bullshit is why LBJ had all his conversations on the shitter.@SenatorBoxer, another one killed by guns in Sacramento today. What will you do about it? https://t.co/5NLbMxJmnn #shootatweet@parisvega @espiekermann No. You cant even compare the two.@MikeHosier Yeah, the luxury watch did great. And NO.@ChappellTracker Were talking about Frozen, right?@drwave @beaucolburn Id throw in #choad too.@halvorson Is that Gilmore Girls?Do not argue with eggs.@NancyPelosi, 2 people were injured by guns in Los Angeles today. What will you do about it? https://t.co/EBk9OEqBp4 #shootatweetI honestly cant take two more weeks of this shit.Is anyone here a brand manager? https://t.co/IFqJc90E5h@designhawg One would think.@SenFeinstein, another one killed by guns in Los Angeles today. What will you do about it? https://t.co/NbtGsxMYLq #shootatweetSo what? Its illegal for one.  https://t.co/gszEoiwAItI thought about it. Youre an idiot. https://t.co/iN1WPXqga6Agreed. https://t.co/VIMRejMlzG@SenatorBoxer, 2 people were injured by guns in Los Angeles today. What will you do about it? https://t.co/EBk9OEqBp4 #shootatweetWhats wrong with the Comp Kickstarter? It doesnt pass the Warhol Coke test. We dont need luxury versions of comm https://t.co/S81O3jTO6uYou can buy this rifle RIGHT NOW on @facebook. https://t.co/J7lN7Fde0aand when youre running a gun marketplace, as @facebook is, you can target your gun sales to whites only. https://t.co/ihUwWZBZAZEverything. https://t.co/OT7X69AiraTheres no happier sight in sports than Tony Romo holding a clipboard.@SenatorBoxer, another one killed by guns in Lincoln today. What will you do about it? https://t.co/6hM1dG0BHF #shootatweetWere CITIZENS, asshole. CITIZENS. https://t.co/t6gFZgNoKFIts sooooo true. https://t.co/7PgG6E0q1C@sjarvis Thank YOU.The @GOP promises to go out guns blazing. Because theyre not responsible for enough gun deaths across America. https://t.co/sN3foOCTel@united Please learn how to run an airline.Hi. We are in the middle of a coup. This is how it happens.@NancyPelosi, another one killed by guns in Lincoln today. What will you do about it? https://t.co/6hM1dG0BHF #shootatweet@zeldman Still not a fan. These things say more about designers ineptitude than client issues.@natts @astronautpnguin Ok, Dave. Correct me. Was I wrong? I will apologize if I was.Oh shit! I need a ride to the burn unit! https://t.co/zmBd7C5w31Remember that thing about @facebook allowing advertisers to target by race? Someone used it! https://t.co/QnIPzgYPxL@matt_timmons @austinkleon I AM kidding. I was going to watch it later, but after what Im hearing nope.When you refer to job cuts as a percentage you are dehumanizing people. This is 350 PEOPLE. It matters. https://t.co/2yzzE8DtFj@gruber We should reinstate Pete Rose and ban YOU from baseball. Just the worst fan.And when you fire 350 people and your investors cheer you need to wonder about what kind of people youre in bed with. Fuck Wall St.This election has revealed that men can stumble dick-first into success while women have to walk a tightrope to just have a chance.That Composition book kickstarter reminds me of the time a restaurant tried to sell me a $20 pretzel. Fuck your $20 pretzel. Cheap is best.Hey @facebook! Half these posts LITERALLY have guns for sale in the title. Thats hard to flag how?!? https://t.co/vE01yJXLgODesigners need to focus on fixing problems for those who need help, not creating luxury versions of things that work just fine.@de5igner @madebyfew Yeah, Im not crazy about this. And a little concerned that the conference retweeted it.Trust me, Im capable of being angry about two things. Three if you wanna press it. https://t.co/lPhfz5LQtBLove it. https://t.co/ppT3EELz5Q@gruber Sigh. You did. Pretty great.The last few days have the tinge of a coup on them. Like democracy is being pulled out from under us.Fair enough. Ill go do that. And hey! You go fuck yourself! https://t.co/8POhLNmYlqCheck out #gunsonfacebookrightnow and see how seriously @facebook is taking its gun ban. They could pull these tonight if they wanted to.My friend @romanmars makes good radio. Join me in supporting Radiotopia 2016. https://t.co/Ri5XJjFDbYLooks like I've had my last Yuengling. https://t.co/L40YuaGEeo@SenatorBoxer, another one killed by guns in Los Angeles today. What will you do about it? https://t.co/V5lJ1hWcCf #shootatweetYou can buy this RIGHT NOW on @facebook. https://t.co/KO7k3vFBO9LOL. I havent  even made the joke about how much designers love making things with lay-flat spines. Way to project.Says the man who felt the need to jump on Twitter to continue berating a woman. https://t.co/bxTn2fwstF@mat Well, actually Mat. In fairness, were not racist, but all lives matter.Hey fools! Go see this movie! my friend @sonia__harris designed a bunch of stuff for it. She's all talented and shi https://t.co/B5YcOJN94TDesigners, I only pick on you because I love you and I know youre capable of so much more. But somewhere along the line you forgot.and right now, people need you like they havent needed you in a long time.Help me with a thing. Go to @facebook. Find a gun for sale. Post a screenshot here with #gunsonfacebookrightnow.White men realize they dont HAVE to come to the defense of tech corporations, right?@SenFeinstein, 2 people were injured by guns in Los Angeles today. What will you do about it? https://t.co/EBk9OEqBp4 #shootatweet@SherylCababa @austinkleon Yes, but when the disenfranchised pull out sharpies at a restaurant and mark the plates they get arrested.@dansinker No. meet me in Berlin next week. Well start a whole government in exile thing.@SenFeinstein, another one killed by guns in Sacramento today. What will you do about it? https://t.co/5NLbMxJmnn #shootatweetMaybe stop building things for Wall St and go back to making things people need.An update on taking down @facebooks guns from @jbsibley: https://t.co/aBQiTYDxC7I block gun nuts, racists, alt-right pricks, and mens group turds. Subscribe to my @blocktogether and benefit : https://t.co/sRLiJetnnd@gruber Only YOU would root for Cleveland over Americas sweethearts.@ToddRoss Yeah, it was visceral enough in the comic. And I hear its worse on film. I don't really feel a need to experience that.All those times you were interrupted? Told to smile more? Passed over for a job? In 10 days you can elect Americas first woman president.Some of you may not realize that the 2016 Mansplaining Olympics started this morning.  https://t.co/IJWyUclVQlBlatant lie. They harass and suspend us for reporting illegal gun sales. https://t.co/KVR5dSvR88Cubs be cubbin.Thanks to everyone at #MxF2016 for being an amazing audience today.</td>\n",
       "    </tr>\n",
       "    <tr>\n",
       "      <th>3</th>\n",
       "      <td>11569</td>\n",
       "      <td>Jet Life Stadium</td>\n",
       "      <td>False start... good God.Jets could activate Devin Smith, Breno Giacomini from PUP list vs. Browns, says Todd Bowles #jets  https://t.co/BRwGm4MueQI'm about to call an audible... \"KILL KILL\" #Jets https://t.co/na0J8xRzkaGoal to go. Browns just flew down the field.  #JetsBilal Powell's Huge 35-Yard TD Run! | #Jets  https://t.co/lJoDPzLQdvFireman Ed sighting #Jets https://t.co/Ah39mI6rmMWell that's a great start.@pyetti My wife put me in the padded room.3 and out! GRRRRRRRR@KirkCassels we brought it up on this showLook how empty that stadium is!  A combined 2 wins will do that...Still waiting for @TheSheikh to post photos... :(They are taking Fitz out to check him. Here's Petty.Revis getting fried again.@KirkCassels thx manOMG he was killed #JetsGame day!Just launched new podcast:  \"244: Pissed-Patrick\" at  https://t.co/sjrztrkFFT #Jets #PissedPatrickNice catch Peake.Mangold in walking boot, unlikely to play Sunday  https://t.co/TtKjfU7H9G #jetsI think he has no skin on his nose.@BrandonCappelli tell him I said heyThese receivers are doing whatever they want. TACKLE!  #JetsPetty makes his NFL debut. #JetsWe made them look like the Patriots. https://t.co/YbGv4g2bwWRaking the leaves is looking good soon. ugh@120Terp very visual#J_E_T_S_JETS_JETS_JETS!! LET'S GO!!!!! #JETSPOWELL! BOOM! TDWell the #Jets looked HORRENDOUS!OMG Come one!!! Working on Pryor.If the #Jets go 3 and out... I'll lose it.Another 3 and out.  #jetsSee... I've been saying trade him and get some picks. https://t.co/SXCJr6M6yaWashington Coach Pulls Out Dong, Pees Freely Before The Masses During Game - Former Jets Coach.   https://t.co/PFkARF6WGZNo Huddle #JetsAny Jets fan ever feel like we are on the WORST roller coaster ride ever imagined?I hate it when Mangold doesn't play...And that's a WGottlieb: Will Darrelle Revis retire after this year? https://t.co/QE3DMbtuy0Garbage TDNY Jets Injury Update: Nick Mangold and Muhammad Wilkerson https://t.co/t4aUpYT7BL5 straight plays of nothing to start the game. #JetsPowell has always been explosive.Twitter: 70 Percent Of NFL Live Stream Audience Under 35  https://t.co/QZ0ykxB7igBecause of the challenge of the spot, Fitz can slip back in with not missing a play. Better luck next time Petty. No NFL debut. #JetsStandford is running around everywhere..REVIS! YOU ARE BROKEN!Who's ready for two consecutive wins?! #JetsRyan Fitzpatrick back under center for Jets, ready to \"show them\" https://t.co/jnFT7ipTcSI'm about to throw something.Guess I'm watching the game... https://t.co/OgpW2myHAkMy thoughts on the #Jets QB situation ----&gt;https://t.co/sjrztrCgxrFitz goes right back in... No Petty.Kill Kill@DaveKrayhem I don't... sorry... I'm from PAChipping away. Gain of 4.  #Jets</td>\n",
       "    </tr>\n",
       "    <tr>\n",
       "      <th>4</th>\n",
       "      <td>14763</td>\n",
       "      <td>Portland, Oregon, USA</td>\n",
       "      <td>@mwhuss As an introvert, I actually like the alone time. Also, cuts down on commute time :)@zuhrisaifudin45 Thank you!@garrettdimon Great hustle man!Working on Project One for the @treehouse Full Stack JavaScript Techdegree   Code: https://t.co/o48Dh8Irmy   https://t.co/378NfCcsShBig props to Wayne for bringing everyone together to talk about improving diversity and https://t.co/vnnxryFLP3@bencareynyt Hi Benedict - I'd like to invite you to be our featured guest on the Educate Yourself podcast :) https://t.co/50qhAxrjBi@kristina_basham @treehouse is an online affordable technology school with 75,000 students. We take people from zero to job ready :)This carpet of Ginkgo Tree leaves is just amazing #fall #nofilter #portland #beauty https://t.co/Dg2UhtFA4DAshley did it. Your turn.  https://t.co/jiWad3u9Pr@wjgilmore GoruckWe have more amazing guests lined up for the Educate Yourself podcast! :) Android: https://t.co/CAjl9a4h5v iTunes: https://t.co/50qhAxrjBiWhat I carry around in my backpack all the time #goruck #fitness #spartan #training https://t.co/lwokqKcTZW@KatieMSmith I'd have to check - I'm not sure actually!@zapatoche Never because I use a @GORUCK. Lifetime guaranteedI think it's time to buy some Microsoft stock. Apple might be on the long term decline.Using the All Gender Restroom today was strange at first but then it became totally normal. It https://t.co/j2Hd9OKv1W.@superbooked looks really exciting. Great work @danielmallPlease subscribe and rate our new podcast: #EducateYourself  Thanks!   iTunes: https://t.co/50qhAxrjBi  Play Store: https://t.co/CAjl9a4h5v@nikiforovalex18 Congrats!!! It's so awesome what you've achieved.Monty, our Great Dane, finally got ahold of my slippers. Doesn't stop me from wearing them to https://t.co/qQZfHhh2ndHere's to all you Tesla-Elon-doubters. Bam :) https://t.co/bSJ1B9JDym@danielmall @AaronGustafson @davatron5000 Excited to hear how this goes. My excitement and loyalty to Apple is waning.See you in one hour! :) https://t.co/VxvlVXepM1@hihellosm Wireless Beats. Love emI got the opportunity to speak to an awesome group of high school kids about jobs, technology https://t.co/Jmk2t57kto@codejake Just changed that to \"use\". Good call :)An amazing piece of art depicting Martin Luther King Jr, made of dominos https://t.co/DwTSlVlB3Y@wjgilmore Ah I think it's the GR1Gettin' my learn on. Working on Project One in the Treehouse Full Stack JavaScript Techdegree https://t.co/mJ4TWJNdOoI shared one of my best productivity tips here: \"How to use your calendar to maximize your effectiveness https://t.co/4bca9h5Kh2How to hack your calendar to maximize your effectiveness  https://t.co/hNVcwghHpO  #effectiveness #productivity #timemanagementBlast from the past. 15-year old me, getting my Eagle Scout award in Boy Scouts. Couldn't have https://t.co/fF6dpmMkcZ</td>\n",
       "    </tr>\n",
       "  </tbody>\n",
       "</table>\n",
       "</div>"
      ],
      "text/plain": [
       "   UserID               Location  \\\n",
       "0  1737    In my head              \n",
       "1  2391    San Francisco           \n",
       "2  2426    SF                      \n",
       "3  11569   Jet Life Stadium        \n",
       "4  14763   Portland, Oregon, USA   \n",
       "\n",
       "                                                                                                                                                                                                                                                                                                                                                                                                                                                                                                                                                                                                                                                                                                                                                                                                                                                                                                                                                                                                                                                                                                                                                                                                                                                                                                                                                                                                                                                                                                                                                                                                                                                                                                                                                                                                                                                                                                                                                                                                                                                                                                                                                                                                                                                                                                                                                                                                                                                                                                                                                                                                                                                                                                                                                                                                                                                                                                                                                                                                                                                                                                                                                                                                                                                                                                                                                                                                                                                                                                                                                                                                                                                                                                                                                                                                                                                                                                                                                                                                                                                                                                                                                                                                                                                                                                                                                                                                                                                                                                                                                                                                                                                                                                                                                                                                                                                                                                                                                                                                                                                                                                                                                                                                                                                                                                                                                                                                                                                                                                                                                                                                                                                                                                                                                                                                                                                                                                                                                                                                                                                                                                                                                                                                                                                                                                                                                                                                                                                                                                                                                                                                                                                                                                                                                                                                                                                                                                                                                                                                                                                                                                                                                                                                                                                                                                                                                                                                                                                                                                                                                                                                                                                                                                                                                                                                                                                                                                                                                                                                                                                                                                                                                                                                                                                                                                                                                                                                                                                                                                                                                                                                                                                                                                                                                                                                                                                                                                                                                                                                                                                                                                                                                                                                                                                                                                                                                                                                                                                                                                                                                                                                                                                                                                                                        Text  \n",
       "0  Listening to @nehanarkhede talk about event streams at #ATO2016 and thinking about how to continue evolving our Kafka-based pipeline.Related, man would I love to have @erinscafe as a coach for my kids.If youre interested in processing streaming data at scale, @MailChimp is hiring: https://t.co/MYxL4mCkaC Come see us if youre at #ATO2016.@rachaelmaddux Just when I think I couldnt love her more.If you coach or have kids in youth sports, this is well worth reading. https://t.co/BEdjKmZ28H@_raven_io @pwnela Im well past the three month mark and still not sure Im setwhich is cool, but could be distressing if unexpected.Moving on to discussion of IoT, ML, and AR by @GregU. (Lots of buzzwords there.) Just learning of @PTC's acquisition of @Vuforia. #ATO2016Wish @nehanarkhede had asked how many were actively using Kafka. I suspect it would have still been sizable. https://t.co/OVy8zXHeiT@erinscafe @salrelish I'm pretty reserved, but if this happened to a team I coached or had kid onI don't know how I'd handle it. Appalling.@KyFaSt Congrats! Super happy for you and happy to get to work with you as any sort of engineeror just plain person.Starting day at #ATO2016. Looking forward to keynotesparticularly @nehanarkhede and talks through the day. Come see us at @MailChimp booth@SwiftOnSecurity @dcloues Wow. Imagine the world in which cat pictures are the stupidest thing. Can one get transferred into that world?@nehanarkhede @jessfraz Wondered whether you'd mention in your keynote. LOLed when you did.Also related, youth sports is full of coaches like @erinscafe who give so much time and care to kids. The bad ones shouldn't be tolerated.@nehanarkhede Im hoping that wasnt as cringeworthy at I fear it was. Looking forward to your keynote.Just listened to @solrac901  discuss @ApacheSpot. Thinking of possible new applications for ML at @MailChimp. #ATO2016@adickerson  @ComfortablySmug I could not be more intrigued than by a topic recommended by both Drudge and @jdickerson.@skamille cats don't care. Just look at the expression.@Michael_Tsunam1 @samnesmith Important clarification. I was concerned for a bit there.@bakins Im so sorry.@JessicaMauerhan If youre still around and interested, I held some swag for you at the booth. Were to the right as you enter building.                                                                                                                                                                                                                                                                                                                                                                                                                                                                                                                                                                                                                                                                                                                                                                                                                                                                                                                                                                                                                                                                                                                                                                                                                                                                                                                                                                                                                                                                                                                                                                                                                                                                                                                                                                                                                                                                                                                                                                                                                                                                                                                                                                                                                                                                                                                                                                                                                                                                                                                                                                                                                                                                                                                                                                                                                                                                                                                                                                                                                                                                                                                                                                                                                                                                                                                                                                                                                                                                                                                                                                                                                                                                                                                                                                                                                                                                                                                                                                                                                                                                                                                                                                                                                                                                                                                                                                                                                                                                                                                                                                                                                                                                                                                                                                                                                                                                                                                                                                                                                                                                                                                                                                                                                                                                                                                                                                                                                                                                                                                                                                                                                                                                                                                                                                                                                                                                                                                                                                                                                                                                                                                                                                                                                                                                                                                                                                                                                                                                                                                                                                                                                                                                                                                                                                                                                                                                                                                                                                                                                                                                                                                                                                                                                                                                                                                                                                \n",
       "1  @NathanFGao The generous view: Maybe it's just impossible to lead two public companies at the same time well.If Huma Abedin can get out of bed and face the world every day, then nothing should be stopping me.@bonaventuresoft oh no god no. Worst job.   I appreciate the sentiment!@presserb @petshopboys the fox in oaklandBottle of Fat Tire I found in the back of my fridge when I got home, I love you.Facebook lets advertisers exclude users by race https://t.co/DDmz3feofO@eldescanso I normally do all my work in google.Uninstall @ Mule Gallery https://t.co/UuNJKfChkv@buzz so good!@andymatic Yeaaah. It's sadly Yahoo!-like.   A lot of people are using it, but we haven't deciding what it's for.Going to @petshopboys tonight!   I'll be the one in front of the stage who smells like wet dog.@mknepprath Oh thanks. It just exposes the flaw in that sort of rating system.@dansinker Then you are living some Harlan Ellison level science horror.California is ridiculous. It's not like we're out of room, not by a longshot.   I bet housing density is good for water conservation too.See also: People who think \"gay\" is an insult. https://t.co/sW73Mw9KGXGOAT Salon with Annalee Newitz! https://t.co/lSTSJiXxtOThanks to internet trolls, that episode of Black Mirror seems so real. (Fortunately, Google reviews aren't a major https://t.co/saJCkbUmrn@willsh well done, sirPet Shop Boys. Still going strong. https://t.co/vGZQUkmaoo@j3sse_pub @petshopboys Go West was the pre encore closer. I got right up to the rail for that one.@thelastwalt fight them!!!The first step to clear communication is a clear goal.   It's surprising how many organizations lack sufficiently clear goals.Fun fact: Franz Kafka was a workers' compensation insurance claims officer.Is a sleeping bag a sandwich?Happy place https://t.co/FmLDQVavBJ@tonx the frightful paradox of 2016@MikeIsaac @fmanjoo Start with this!  Easy plus tasty plus fast. https://t.co/3YS56Ee50TVice has fewer neonazis. https://t.co/OZsWAkeFnXI tried it when I couldn't sleep. Worked!  Neuroscience Says Listening to This Song Reduces Anxiety by Up to 65%  https://t.co/kHLOQHVgIN@migurski yes!! Me tooThis is upsetting. https://t.co/OCsq9LFU9e@rtraister Very little of it joyful.@atrubens Maybe @twitter is bad at you.@j3sse_pub @petshopboys here you go! https://t.co/yWFqbGDS0jDAMMIT.   That untitled document I just closed without saving were my rescued revisions. I didn't realize my machine crashed. fml@clearwriter I never work in Word anymore. I'm always in the cloud, so I've lost my twitchy save finger.And man, there are gross exes. There are gross exes who pop up in your professional life. And then there's what she is dealing with.Tonight's vocabulary term is \"American Bottom\"  https://t.co/UGSq0Wuy7vRaise your hand if you're sadly resigned to @twitter's ultimate demise.What's this? https://t.co/wXViGJFlSh@timbuckwalter thats the part of our operation thats#'s open to the publicAnti-aging lasers come in more than one variety. https://t.co/MbzTwPs5Ms@scarequotes Makes you think, huh?When I'd get anxious, I used to think about how hard Obama's days were and how he got through it. Then I switched to Hillary. Now it's Huma.In the public pool shower, I stepped on something sharp. Pulled a tiny four-leaf clover ear stud out of my foot.  Unpacking the symbolism.This video gives new meaning to \"party of Lincoln\"  https://t.co/ms69JX2E1n  h/t @kathrynyu@summersumz thank you!@steveportigal @billder OK, now that's going on a mug.@NathanFGao I don't think so. But I think there was a hope that jack had special powers. Some return of the king myth.I agree. Twitter users do amazing things using the platform. Product approach is \"Now, respond to hate speech with https://t.co/PmaSqww9aH@robynkanner Ice cream@thelastwalt (Do not fight them)@clearwriter I am so cranky now.@hhavrilesky @TheCut It continues to creep me out when people refer to me as my dog's \"mom\", which is the common parlance in SF.Also, you have to know your audience.   A spreadsheet full of responses to a marketing survey is not that.In case there was any doubt bros are currently in charge of the future https://t.co/oiMCuLeeis@tonx right?!?@bjheinley @kowitz Boy do I have answer for you!  https://t.co/zQwBhuHVqYThe pleasant is the enemy of the transcendent. https://t.co/GgHfTaHGJB@yodamay This could be my new favorite band.Tell all your friends in Berlin.  November 7th, go to my delightful, practical workshop on collaborative research!  https://t.co/6ZLGeeFABU@BenKennerly Hmm, I'll put that investigation in my queue.It started in the office across the hall from us. Another era.@michael One of the reviewers gave us 5 stars for the free clinic and sex work.@MaxTemkin just a couple more weeks@lmc @nczeitgeist They should rebrand to \"The Clowns\" in honor of 2016@kathrynyu @dansays Well, now I have a new life list item! Seeing that!Listening to Piketty's *Capital* is relaxing.The most mundane frustrations have inspired great art.I suddenly have 2 xtra GA tix. If you and a friend can be near the Fox in an hour, they can be yours.@tonx sounds rightMaybe we should read these aloud at Mule Nog this year, like Mean Tweets.   https://t.co/6ViwRJZLodThere is only one communication strategy. Be specific, interesting, & useful to your audience.  Yes, this is hard. No, there is no shortcut.This is the only media I am going to expose myself to for the remainder of 2016. https://t.co/94pMUKSYX5NB: @Annaleen recommends Ghostland: An American History in Haunted Places by Colin Dickey https://t.co/eUB0dwLcQ5In this impassioned plea, @TimGunn is talking fashion, but it applies to all designers who disdain \"regular\" people: https://t.co/MNvCm941oS@atrubens @twitter Prepare your torches, I guess.@mnik bugs bunny style!                                                                                                                                                                                                                                                                                                                                                                                                                                                                                                                                                                                                                                                                                                                                                                                                                                                                                                                                                                                                                                                                                                                                                                                                                                                                                                                                                                                                                                                                                                                                                                                                                                                                                                                                                                                                                                                                                                                                                                                                                                                                                                                                                                                                                                                                                                                                                                                                                                                                                                                                                                                                                                                                                                                                                                                                                                                                                                                                                                                                                                                                                                                                                                                                                                                                                                                                                                                                                                                                                                                                                                                                                                                                                                                                                \n",
       "2  @MikeIsaac Maybe the dog is cashing the checks Mike.@thelancearthur So good.Yeah. It was.  https://t.co/CW84E3GB7bWhen your mom opens her mouth. https://t.co/syNVYmvGrqAnd for the love of god, stop trying to make the Apple Watch a thing. Its not a thing. Its Apples third nipple. Move on.This is true only in a world where men and women are held to the same standard. https://t.co/vAU7bqRFOZ@FFWglobal Hey! Been trying to get in touch with you people. Gimme a shout. (It's a good thing.)@SenFeinstein, another one killed by guns in Lincoln today. What will you do about it? https://t.co/6hM1dG0BHF #shootatweet@SenFeinstein, another one killed by guns in Los Angeles today. What will you do about it? https://t.co/V5lJ1hWcCf #shootatweetDesigners have conflated being in the service industry with being servants. We stopped solving problems and became lapdogs to luxury brands.@NancyPelosi, another one killed by guns in Los Angeles today. What will you do about it? https://t.co/NbtGsxMYLq #shootatweetFind your voice. It matters and we need it. New from @abookapart: Demystifying Public Speaking https://t.co/bks79xQJKWYou also arent required to defend how advertising works. https://t.co/yFEnQk76z3@SenatorBoxer, another one killed by guns in Los Angeles today. What will you do about it? https://t.co/NbtGsxMYLq #shootatweetThe best strategy the @GOP has come up with against a VERY qualified woman is the men in her life are idiots.   [many women are nodding]@united You are bad at what you do. Amazingly bad.@designhawg @JoeGermuska @knightlab Awesome. We need them to do good work.Facebook allows advertisers to exclude users by race. Exclude. Users. By. Race. https://t.co/aZLejiqmByYou can either design for brands or you can design for people. You cant do both.@MikeIsaac OMG thats rich.Leaving your mark on everything like a spraying tomcat isnt creativity. Its just entitlement writ large.@NancyPelosi, another one killed by guns in Sacramento today. What will you do about it? https://t.co/5NLbMxJmnn #shootatweet@NancyPelosi, another one killed by guns in Los Angeles today. What will you do about it? https://t.co/V5lJ1hWcCf #shootatweetPlease try to remember that Julian Assange is fighting extradition for RAPE charges. Hes not a patriot. Hes a selfish entitled asshole.Hey, thanks for spoiling that new Walking Dead episode, everybody.@Real_TJ_Thomas @gruber Well, yeah. I think we all agree there.Guess what, dudes? You were BORN privileged. As the great Ann Richards once said, you were born on third base, thinking you hit a triple.EVEN IF all the failures Trump accuses Hillary of ARE true (theyre not) theyd still be just a small fraction of his ACTUAL failures.This email bullshit is why LBJ had all his conversations on the shitter.@SenatorBoxer, another one killed by guns in Sacramento today. What will you do about it? https://t.co/5NLbMxJmnn #shootatweet@parisvega @espiekermann No. You cant even compare the two.@MikeHosier Yeah, the luxury watch did great. And NO.@ChappellTracker Were talking about Frozen, right?@drwave @beaucolburn Id throw in #choad too.@halvorson Is that Gilmore Girls?Do not argue with eggs.@NancyPelosi, 2 people were injured by guns in Los Angeles today. What will you do about it? https://t.co/EBk9OEqBp4 #shootatweetI honestly cant take two more weeks of this shit.Is anyone here a brand manager? https://t.co/IFqJc90E5h@designhawg One would think.@SenFeinstein, another one killed by guns in Los Angeles today. What will you do about it? https://t.co/NbtGsxMYLq #shootatweetSo what? Its illegal for one.  https://t.co/gszEoiwAItI thought about it. Youre an idiot. https://t.co/iN1WPXqga6Agreed. https://t.co/VIMRejMlzG@SenatorBoxer, 2 people were injured by guns in Los Angeles today. What will you do about it? https://t.co/EBk9OEqBp4 #shootatweetWhats wrong with the Comp Kickstarter? It doesnt pass the Warhol Coke test. We dont need luxury versions of comm https://t.co/S81O3jTO6uYou can buy this rifle RIGHT NOW on @facebook. https://t.co/J7lN7Fde0aand when youre running a gun marketplace, as @facebook is, you can target your gun sales to whites only. https://t.co/ihUwWZBZAZEverything. https://t.co/OT7X69AiraTheres no happier sight in sports than Tony Romo holding a clipboard.@SenatorBoxer, another one killed by guns in Lincoln today. What will you do about it? https://t.co/6hM1dG0BHF #shootatweetWere CITIZENS, asshole. CITIZENS. https://t.co/t6gFZgNoKFIts sooooo true. https://t.co/7PgG6E0q1C@sjarvis Thank YOU.The @GOP promises to go out guns blazing. Because theyre not responsible for enough gun deaths across America. https://t.co/sN3foOCTel@united Please learn how to run an airline.Hi. We are in the middle of a coup. This is how it happens.@NancyPelosi, another one killed by guns in Lincoln today. What will you do about it? https://t.co/6hM1dG0BHF #shootatweet@zeldman Still not a fan. These things say more about designers ineptitude than client issues.@natts @astronautpnguin Ok, Dave. Correct me. Was I wrong? I will apologize if I was.Oh shit! I need a ride to the burn unit! https://t.co/zmBd7C5w31Remember that thing about @facebook allowing advertisers to target by race? Someone used it! https://t.co/QnIPzgYPxL@matt_timmons @austinkleon I AM kidding. I was going to watch it later, but after what Im hearing nope.When you refer to job cuts as a percentage you are dehumanizing people. This is 350 PEOPLE. It matters. https://t.co/2yzzE8DtFj@gruber We should reinstate Pete Rose and ban YOU from baseball. Just the worst fan.And when you fire 350 people and your investors cheer you need to wonder about what kind of people youre in bed with. Fuck Wall St.This election has revealed that men can stumble dick-first into success while women have to walk a tightrope to just have a chance.That Composition book kickstarter reminds me of the time a restaurant tried to sell me a $20 pretzel. Fuck your $20 pretzel. Cheap is best.Hey @facebook! Half these posts LITERALLY have guns for sale in the title. Thats hard to flag how?!? https://t.co/vE01yJXLgODesigners need to focus on fixing problems for those who need help, not creating luxury versions of things that work just fine.@de5igner @madebyfew Yeah, Im not crazy about this. And a little concerned that the conference retweeted it.Trust me, Im capable of being angry about two things. Three if you wanna press it. https://t.co/lPhfz5LQtBLove it. https://t.co/ppT3EELz5Q@gruber Sigh. You did. Pretty great.The last few days have the tinge of a coup on them. Like democracy is being pulled out from under us.Fair enough. Ill go do that. And hey! You go fuck yourself! https://t.co/8POhLNmYlqCheck out #gunsonfacebookrightnow and see how seriously @facebook is taking its gun ban. They could pull these tonight if they wanted to.My friend @romanmars makes good radio. Join me in supporting Radiotopia 2016. https://t.co/Ri5XJjFDbYLooks like I've had my last Yuengling. https://t.co/L40YuaGEeo@SenatorBoxer, another one killed by guns in Los Angeles today. What will you do about it? https://t.co/V5lJ1hWcCf #shootatweetYou can buy this RIGHT NOW on @facebook. https://t.co/KO7k3vFBO9LOL. I havent  even made the joke about how much designers love making things with lay-flat spines. Way to project.Says the man who felt the need to jump on Twitter to continue berating a woman. https://t.co/bxTn2fwstF@mat Well, actually Mat. In fairness, were not racist, but all lives matter.Hey fools! Go see this movie! my friend @sonia__harris designed a bunch of stuff for it. She's all talented and shi https://t.co/B5YcOJN94TDesigners, I only pick on you because I love you and I know youre capable of so much more. But somewhere along the line you forgot.and right now, people need you like they havent needed you in a long time.Help me with a thing. Go to @facebook. Find a gun for sale. Post a screenshot here with #gunsonfacebookrightnow.White men realize they dont HAVE to come to the defense of tech corporations, right?@SenFeinstein, 2 people were injured by guns in Los Angeles today. What will you do about it? https://t.co/EBk9OEqBp4 #shootatweet@SherylCababa @austinkleon Yes, but when the disenfranchised pull out sharpies at a restaurant and mark the plates they get arrested.@dansinker No. meet me in Berlin next week. Well start a whole government in exile thing.@SenFeinstein, another one killed by guns in Sacramento today. What will you do about it? https://t.co/5NLbMxJmnn #shootatweetMaybe stop building things for Wall St and go back to making things people need.An update on taking down @facebooks guns from @jbsibley: https://t.co/aBQiTYDxC7I block gun nuts, racists, alt-right pricks, and mens group turds. Subscribe to my @blocktogether and benefit : https://t.co/sRLiJetnnd@gruber Only YOU would root for Cleveland over Americas sweethearts.@ToddRoss Yeah, it was visceral enough in the comic. And I hear its worse on film. I don't really feel a need to experience that.All those times you were interrupted? Told to smile more? Passed over for a job? In 10 days you can elect Americas first woman president.Some of you may not realize that the 2016 Mansplaining Olympics started this morning.  https://t.co/IJWyUclVQlBlatant lie. They harass and suspend us for reporting illegal gun sales. https://t.co/KVR5dSvR88Cubs be cubbin.Thanks to everyone at #MxF2016 for being an amazing audience today.  \n",
       "3  False start... good God.Jets could activate Devin Smith, Breno Giacomini from PUP list vs. Browns, says Todd Bowles #jets  https://t.co/BRwGm4MueQI'm about to call an audible... \"KILL KILL\" #Jets https://t.co/na0J8xRzkaGoal to go. Browns just flew down the field.  #JetsBilal Powell's Huge 35-Yard TD Run! | #Jets  https://t.co/lJoDPzLQdvFireman Ed sighting #Jets https://t.co/Ah39mI6rmMWell that's a great start.@pyetti My wife put me in the padded room.3 and out! GRRRRRRRR@KirkCassels we brought it up on this showLook how empty that stadium is!  A combined 2 wins will do that...Still waiting for @TheSheikh to post photos... :(They are taking Fitz out to check him. Here's Petty.Revis getting fried again.@KirkCassels thx manOMG he was killed #JetsGame day!Just launched new podcast:  \"244: Pissed-Patrick\" at  https://t.co/sjrztrkFFT #Jets #PissedPatrickNice catch Peake.Mangold in walking boot, unlikely to play Sunday  https://t.co/TtKjfU7H9G #jetsI think he has no skin on his nose.@BrandonCappelli tell him I said heyThese receivers are doing whatever they want. TACKLE!  #JetsPetty makes his NFL debut. #JetsWe made them look like the Patriots. https://t.co/YbGv4g2bwWRaking the leaves is looking good soon. ugh@120Terp very visual#J_E_T_S_JETS_JETS_JETS!! LET'S GO!!!!! #JETSPOWELL! BOOM! TDWell the #Jets looked HORRENDOUS!OMG Come one!!! Working on Pryor.If the #Jets go 3 and out... I'll lose it.Another 3 and out.  #jetsSee... I've been saying trade him and get some picks. https://t.co/SXCJr6M6yaWashington Coach Pulls Out Dong, Pees Freely Before The Masses During Game - Former Jets Coach.   https://t.co/PFkARF6WGZNo Huddle #JetsAny Jets fan ever feel like we are on the WORST roller coaster ride ever imagined?I hate it when Mangold doesn't play...And that's a WGottlieb: Will Darrelle Revis retire after this year? https://t.co/QE3DMbtuy0Garbage TDNY Jets Injury Update: Nick Mangold and Muhammad Wilkerson https://t.co/t4aUpYT7BL5 straight plays of nothing to start the game. #JetsPowell has always been explosive.Twitter: 70 Percent Of NFL Live Stream Audience Under 35  https://t.co/QZ0ykxB7igBecause of the challenge of the spot, Fitz can slip back in with not missing a play. Better luck next time Petty. No NFL debut. #JetsStandford is running around everywhere..REVIS! YOU ARE BROKEN!Who's ready for two consecutive wins?! #JetsRyan Fitzpatrick back under center for Jets, ready to \"show them\" https://t.co/jnFT7ipTcSI'm about to throw something.Guess I'm watching the game... https://t.co/OgpW2myHAkMy thoughts on the #Jets QB situation ---->https://t.co/sjrztrCgxrFitz goes right back in... No Petty.Kill Kill@DaveKrayhem I don't... sorry... I'm from PAChipping away. Gain of 4.  #Jets                                                                                                                                                                                                                                                                                                                                                                                                                                                                                                                                                                                                                                                                                                                                                                                                                                                                                                                                                                                                                                                                                                                                                                                                                                                                                                                                                                                                                                                                                                                                                                                                                                                                                                                                                                                                                                                                                                                                                                                                                                                                                                                                                                                                                                                                                                                                                                                                                                                                                                                                                                                                                                                                                                                                                                                                                                                                                                                                                                                                                                                                                                                                                                                                                                                                                                                                                                                                                                                                                                                                                                                                                                                                                                                                                                                                                                                                                                                                                                                                                                                                                                                                                                                                                                                                                                                                                                                                                                                                                                                                                                                                                                                                                                                                                                                                                                                                                                                                                                                                                                                                                                                                                                                                                                                                                                                                                                                                                                                                                                                                                                                                                                                                                                                                                                                                                                                                                                                                                                                                                                                                                                                                                                                                                                                                                                                                                                                                                                                                                                                                                                                                                                                                                                                                                                                                                                                                                                               \n",
       "4  @mwhuss As an introvert, I actually like the alone time. Also, cuts down on commute time :)@zuhrisaifudin45 Thank you!@garrettdimon Great hustle man!Working on Project One for the @treehouse Full Stack JavaScript Techdegree   Code: https://t.co/o48Dh8Irmy   https://t.co/378NfCcsShBig props to Wayne for bringing everyone together to talk about improving diversity and https://t.co/vnnxryFLP3@bencareynyt Hi Benedict - I'd like to invite you to be our featured guest on the Educate Yourself podcast :) https://t.co/50qhAxrjBi@kristina_basham @treehouse is an online affordable technology school with 75,000 students. We take people from zero to job ready :)This carpet of Ginkgo Tree leaves is just amazing #fall #nofilter #portland #beauty https://t.co/Dg2UhtFA4DAshley did it. Your turn.  https://t.co/jiWad3u9Pr@wjgilmore GoruckWe have more amazing guests lined up for the Educate Yourself podcast! :) Android: https://t.co/CAjl9a4h5v iTunes: https://t.co/50qhAxrjBiWhat I carry around in my backpack all the time #goruck #fitness #spartan #training https://t.co/lwokqKcTZW@KatieMSmith I'd have to check - I'm not sure actually!@zapatoche Never because I use a @GORUCK. Lifetime guaranteedI think it's time to buy some Microsoft stock. Apple might be on the long term decline.Using the All Gender Restroom today was strange at first but then it became totally normal. It https://t.co/j2Hd9OKv1W.@superbooked looks really exciting. Great work @danielmallPlease subscribe and rate our new podcast: #EducateYourself  Thanks!   iTunes: https://t.co/50qhAxrjBi  Play Store: https://t.co/CAjl9a4h5v@nikiforovalex18 Congrats!!! It's so awesome what you've achieved.Monty, our Great Dane, finally got ahold of my slippers. Doesn't stop me from wearing them to https://t.co/qQZfHhh2ndHere's to all you Tesla-Elon-doubters. Bam :) https://t.co/bSJ1B9JDym@danielmall @AaronGustafson @davatron5000 Excited to hear how this goes. My excitement and loyalty to Apple is waning.See you in one hour! :) https://t.co/VxvlVXepM1@hihellosm Wireless Beats. Love emI got the opportunity to speak to an awesome group of high school kids about jobs, technology https://t.co/Jmk2t57kto@codejake Just changed that to \"use\". Good call :)An amazing piece of art depicting Martin Luther King Jr, made of dominos https://t.co/DwTSlVlB3Y@wjgilmore Ah I think it's the GR1Gettin' my learn on. Working on Project One in the Treehouse Full Stack JavaScript Techdegree https://t.co/mJ4TWJNdOoI shared one of my best productivity tips here: \"How to use your calendar to maximize your effectiveness https://t.co/4bca9h5Kh2How to hack your calendar to maximize your effectiveness  https://t.co/hNVcwghHpO  #effectiveness #productivity #timemanagementBlast from the past. 15-year old me, getting my Eagle Scout award in Boy Scouts. Couldn't have https://t.co/fF6dpmMkcZ                                                                                                                                                                                                                                                                                                                                                                                                                                                                                                                                                                                                                                                                                                                                                                                                                                                                                                                                                                                                                                                                                                                                                                                                                                                                                                                                                                                                                                                                                                                                                                                                                                                                                                                                                                                                                                                                                                                                                                                                                                                                                                                                                                                                                                                                                                                                                                                                                                                                                                                                                                                                                                                                                                                                                                                                                                                                                                                                                                                                                                                                                                                                                                                                                                                                                                                                                                                                                                                                                                                                                                                                                                                                                                                                                                                                                                                                                                                                                                                                                                                                                                                                                                                                                                                                                                                                                                                                                                                                                                                                                                                                                                                                                                                                                                                                                                                                                                                                                                                                                                                                                                                                                                                                                                                                                                                                                                                                                                                                                                                                                                                                                                                                                                                                                                                                                                                                                                                                                                                                                                                                                                                                                                                                                                                                                                                                                                                                                                                                                                                                                                                                                                                                                                                                                                                          "
      ]
     },
     "execution_count": 8,
     "metadata": {},
     "output_type": "execute_result"
    }
   ],
   "source": [
    "new_tweets = tweets.groupby(['UserID',\"Location\"], as_index=False).sum()\n",
    "\n",
    "new_tweets.head()"
   ]
  },
  {
   "cell_type": "code",
   "execution_count": 9,
   "metadata": {},
   "outputs": [],
   "source": [
    "# For ground truth. \n",
    "tweet_cols2 = ['UserID', 'Supporter']\n",
    "ground_truth = pd.read_table('clinton_trump_user_classes.txt', names=tweet_cols2, encoding =\"ISO-8859-1\")"
   ]
  },
  {
   "cell_type": "code",
   "execution_count": 10,
   "metadata": {},
   "outputs": [
    {
     "data": {
      "text/html": [
       "<div>\n",
       "<style scoped>\n",
       "    .dataframe tbody tr th:only-of-type {\n",
       "        vertical-align: middle;\n",
       "    }\n",
       "\n",
       "    .dataframe tbody tr th {\n",
       "        vertical-align: top;\n",
       "    }\n",
       "\n",
       "    .dataframe thead th {\n",
       "        text-align: right;\n",
       "    }\n",
       "</style>\n",
       "<table border=\"1\" class=\"dataframe\">\n",
       "  <thead>\n",
       "    <tr style=\"text-align: right;\">\n",
       "      <th></th>\n",
       "      <th>UserID</th>\n",
       "      <th>Location</th>\n",
       "      <th>Text</th>\n",
       "      <th>Supporter</th>\n",
       "    </tr>\n",
       "  </thead>\n",
       "  <tbody>\n",
       "    <tr>\n",
       "      <th>0</th>\n",
       "      <td>1737</td>\n",
       "      <td>In my head</td>\n",
       "      <td>Listening to @nehanarkhede talk about event streams at #ATO2016 and thinking about how to continue evolving our Kafka-based pipeline.Related, man would I love to have @erinscafe as a coach for my kids.If youre interested in processing streaming data at scale, @MailChimp is hiring: https://t.co/MYxL4mCkaC Come see us if youre at #ATO2016.@rachaelmaddux Just when I think I couldnt love her more.If you coach or have kids in youth sports, this is well worth reading. https://t.co/BEdjKmZ28H@_raven_io @pwnela Im well past the three month mark and still not sure Im setwhich is cool, but could be distressing if unexpected.Moving on to discussion of IoT, ML, and AR by @GregU. (Lots of buzzwords there.) Just learning of @PTC's acquisition of @Vuforia. #ATO2016Wish @nehanarkhede had asked how many were actively using Kafka. I suspect it would have still been sizable. https://t.co/OVy8zXHeiT@erinscafe @salrelish I'm pretty reserved, but if this happened to a team I coached or had kid onI don't know how I'd handle it. Appalling.@KyFaSt Congrats! Super happy for you and happy to get to work with you as any sort of engineeror just plain person.Starting day at #ATO2016. Looking forward to keynotesparticularly @nehanarkhede and talks through the day. Come see us at @MailChimp booth@SwiftOnSecurity @dcloues Wow. Imagine the world in which cat pictures are the stupidest thing. Can one get transferred into that world?@nehanarkhede @jessfraz Wondered whether you'd mention in your keynote. LOLed when you did.Also related, youth sports is full of coaches like @erinscafe who give so much time and care to kids. The bad ones shouldn't be tolerated.@nehanarkhede Im hoping that wasnt as cringeworthy at I fear it was. Looking forward to your keynote.Just listened to @solrac901  discuss @ApacheSpot. Thinking of possible new applications for ML at @MailChimp. #ATO2016@adickerson  @ComfortablySmug I could not be more intrigued than by a topic recommended by both Drudge and @jdickerson.@skamille cats don't care. Just look at the expression.@Michael_Tsunam1 @samnesmith Important clarification. I was concerned for a bit there.@bakins Im so sorry.@JessicaMauerhan If youre still around and interested, I held some swag for you at the booth. Were to the right as you enter building.</td>\n",
       "      <td>1</td>\n",
       "    </tr>\n",
       "    <tr>\n",
       "      <th>1</th>\n",
       "      <td>2391</td>\n",
       "      <td>San Francisco</td>\n",
       "      <td>@NathanFGao The generous view: Maybe it's just impossible to lead two public companies at the same time well.If Huma Abedin can get out of bed and face the world every day, then nothing should be stopping me.@bonaventuresoft oh no god no. Worst job.   I appreciate the sentiment!@presserb @petshopboys the fox in oaklandBottle of Fat Tire I found in the back of my fridge when I got home, I love you.Facebook lets advertisers exclude users by race https://t.co/DDmz3feofO@eldescanso I normally do all my work in google.Uninstall @ Mule Gallery https://t.co/UuNJKfChkv@buzz so good!@andymatic Yeaaah. It's sadly Yahoo!-like.   A lot of people are using it, but we haven't deciding what it's for.Going to @petshopboys tonight!   I'll be the one in front of the stage who smells like wet dog.@mknepprath Oh thanks. It just exposes the flaw in that sort of rating system.@dansinker Then you are living some Harlan Ellison level science horror.California is ridiculous. It's not like we're out of room, not by a longshot.   I bet housing density is good for water conservation too.See also: People who think \"gay\" is an insult. https://t.co/sW73Mw9KGXGOAT Salon with Annalee Newitz! https://t.co/lSTSJiXxtOThanks to internet trolls, that episode of Black Mirror seems so real. (Fortunately, Google reviews aren't a major https://t.co/saJCkbUmrn@willsh well done, sirPet Shop Boys. Still going strong. https://t.co/vGZQUkmaoo@j3sse_pub @petshopboys Go West was the pre encore closer. I got right up to the rail for that one.@thelastwalt fight them!!!The first step to clear communication is a clear goal.   It's surprising how many organizations lack sufficiently clear goals.Fun fact: Franz Kafka was a workers' compensation insurance claims officer.Is a sleeping bag a sandwich?Happy place https://t.co/FmLDQVavBJ@tonx the frightful paradox of 2016@MikeIsaac @fmanjoo Start with this!  Easy plus tasty plus fast. https://t.co/3YS56Ee50TVice has fewer neonazis. https://t.co/OZsWAkeFnXI tried it when I couldn't sleep. Worked!  Neuroscience Says Listening to This Song Reduces Anxiety by Up to 65%  https://t.co/kHLOQHVgIN@migurski yes!! Me tooThis is upsetting. https://t.co/OCsq9LFU9e@rtraister Very little of it joyful.@atrubens Maybe @twitter is bad at you.@j3sse_pub @petshopboys here you go! https://t.co/yWFqbGDS0jDAMMIT.   That untitled document I just closed without saving were my rescued revisions. I didn't realize my machine crashed. fml@clearwriter I never work in Word anymore. I'm always in the cloud, so I've lost my twitchy save finger.And man, there are gross exes. There are gross exes who pop up in your professional life. And then there's what she is dealing with.Tonight's vocabulary term is \"American Bottom\"  https://t.co/UGSq0Wuy7vRaise your hand if you're sadly resigned to @twitter's ultimate demise.What's this? https://t.co/wXViGJFlSh@timbuckwalter thats the part of our operation thats#'s open to the publicAnti-aging lasers come in more than one variety. https://t.co/MbzTwPs5Ms@scarequotes Makes you think, huh?When I'd get anxious, I used to think about how hard Obama's days were and how he got through it. Then I switched to Hillary. Now it's Huma.In the public pool shower, I stepped on something sharp. Pulled a tiny four-leaf clover ear stud out of my foot.  Unpacking the symbolism.This video gives new meaning to \"party of Lincoln\"  https://t.co/ms69JX2E1n  h/t @kathrynyu@summersumz thank you!@steveportigal @billder OK, now that's going on a mug.@NathanFGao I don't think so. But I think there was a hope that jack had special powers. Some return of the king myth.I agree. Twitter users do amazing things using the platform. Product approach is \"Now, respond to hate speech with https://t.co/PmaSqww9aH@robynkanner Ice cream@thelastwalt (Do not fight them)@clearwriter I am so cranky now.@hhavrilesky @TheCut It continues to creep me out when people refer to me as my dog's \"mom\", which is the common parlance in SF.Also, you have to know your audience.   A spreadsheet full of responses to a marketing survey is not that.In case there was any doubt bros are currently in charge of the future https://t.co/oiMCuLeeis@tonx right?!?@bjheinley @kowitz Boy do I have answer for you!  https://t.co/zQwBhuHVqYThe pleasant is the enemy of the transcendent. https://t.co/GgHfTaHGJB@yodamay This could be my new favorite band.Tell all your friends in Berlin.  November 7th, go to my delightful, practical workshop on collaborative research!  https://t.co/6ZLGeeFABU@BenKennerly Hmm, I'll put that investigation in my queue.It started in the office across the hall from us. Another era.@michael One of the reviewers gave us 5 stars for the free clinic and sex work.@MaxTemkin just a couple more weeks@lmc @nczeitgeist They should rebrand to \"The Clowns\" in honor of 2016@kathrynyu @dansays Well, now I have a new life list item! Seeing that!Listening to Piketty's *Capital* is relaxing.The most mundane frustrations have inspired great art.I suddenly have 2 xtra GA tix. If you and a friend can be near the Fox in an hour, they can be yours.@tonx sounds rightMaybe we should read these aloud at Mule Nog this year, like Mean Tweets.   https://t.co/6ViwRJZLodThere is only one communication strategy. Be specific, interesting, &amp; useful to your audience.  Yes, this is hard. No, there is no shortcut.This is the only media I am going to expose myself to for the remainder of 2016. https://t.co/94pMUKSYX5NB: @Annaleen recommends Ghostland: An American History in Haunted Places by Colin Dickey https://t.co/eUB0dwLcQ5In this impassioned plea, @TimGunn is talking fashion, but it applies to all designers who disdain \"regular\" people: https://t.co/MNvCm941oS@atrubens @twitter Prepare your torches, I guess.@mnik bugs bunny style!</td>\n",
       "      <td>1</td>\n",
       "    </tr>\n",
       "    <tr>\n",
       "      <th>2</th>\n",
       "      <td>2426</td>\n",
       "      <td>SF</td>\n",
       "      <td>@MikeIsaac Maybe the dog is cashing the checks Mike.@thelancearthur So good.Yeah. It was.  https://t.co/CW84E3GB7bWhen your mom opens her mouth. https://t.co/syNVYmvGrqAnd for the love of god, stop trying to make the Apple Watch a thing. Its not a thing. Its Apples third nipple. Move on.This is true only in a world where men and women are held to the same standard. https://t.co/vAU7bqRFOZ@FFWglobal Hey! Been trying to get in touch with you people. Gimme a shout. (It's a good thing.)@SenFeinstein, another one killed by guns in Lincoln today. What will you do about it? https://t.co/6hM1dG0BHF #shootatweet@SenFeinstein, another one killed by guns in Los Angeles today. What will you do about it? https://t.co/V5lJ1hWcCf #shootatweetDesigners have conflated being in the service industry with being servants. We stopped solving problems and became lapdogs to luxury brands.@NancyPelosi, another one killed by guns in Los Angeles today. What will you do about it? https://t.co/NbtGsxMYLq #shootatweetFind your voice. It matters and we need it. New from @abookapart: Demystifying Public Speaking https://t.co/bks79xQJKWYou also arent required to defend how advertising works. https://t.co/yFEnQk76z3@SenatorBoxer, another one killed by guns in Los Angeles today. What will you do about it? https://t.co/NbtGsxMYLq #shootatweetThe best strategy the @GOP has come up with against a VERY qualified woman is the men in her life are idiots.   [many women are nodding]@united You are bad at what you do. Amazingly bad.@designhawg @JoeGermuska @knightlab Awesome. We need them to do good work.Facebook allows advertisers to exclude users by race. Exclude. Users. By. Race. https://t.co/aZLejiqmByYou can either design for brands or you can design for people. You cant do both.@MikeIsaac OMG thats rich.Leaving your mark on everything like a spraying tomcat isnt creativity. Its just entitlement writ large.@NancyPelosi, another one killed by guns in Sacramento today. What will you do about it? https://t.co/5NLbMxJmnn #shootatweet@NancyPelosi, another one killed by guns in Los Angeles today. What will you do about it? https://t.co/V5lJ1hWcCf #shootatweetPlease try to remember that Julian Assange is fighting extradition for RAPE charges. Hes not a patriot. Hes a selfish entitled asshole.Hey, thanks for spoiling that new Walking Dead episode, everybody.@Real_TJ_Thomas @gruber Well, yeah. I think we all agree there.Guess what, dudes? You were BORN privileged. As the great Ann Richards once said, you were born on third base, thinking you hit a triple.EVEN IF all the failures Trump accuses Hillary of ARE true (theyre not) theyd still be just a small fraction of his ACTUAL failures.This email bullshit is why LBJ had all his conversations on the shitter.@SenatorBoxer, another one killed by guns in Sacramento today. What will you do about it? https://t.co/5NLbMxJmnn #shootatweet@parisvega @espiekermann No. You cant even compare the two.@MikeHosier Yeah, the luxury watch did great. And NO.@ChappellTracker Were talking about Frozen, right?@drwave @beaucolburn Id throw in #choad too.@halvorson Is that Gilmore Girls?Do not argue with eggs.@NancyPelosi, 2 people were injured by guns in Los Angeles today. What will you do about it? https://t.co/EBk9OEqBp4 #shootatweetI honestly cant take two more weeks of this shit.Is anyone here a brand manager? https://t.co/IFqJc90E5h@designhawg One would think.@SenFeinstein, another one killed by guns in Los Angeles today. What will you do about it? https://t.co/NbtGsxMYLq #shootatweetSo what? Its illegal for one.  https://t.co/gszEoiwAItI thought about it. Youre an idiot. https://t.co/iN1WPXqga6Agreed. https://t.co/VIMRejMlzG@SenatorBoxer, 2 people were injured by guns in Los Angeles today. What will you do about it? https://t.co/EBk9OEqBp4 #shootatweetWhats wrong with the Comp Kickstarter? It doesnt pass the Warhol Coke test. We dont need luxury versions of comm https://t.co/S81O3jTO6uYou can buy this rifle RIGHT NOW on @facebook. https://t.co/J7lN7Fde0aand when youre running a gun marketplace, as @facebook is, you can target your gun sales to whites only. https://t.co/ihUwWZBZAZEverything. https://t.co/OT7X69AiraTheres no happier sight in sports than Tony Romo holding a clipboard.@SenatorBoxer, another one killed by guns in Lincoln today. What will you do about it? https://t.co/6hM1dG0BHF #shootatweetWere CITIZENS, asshole. CITIZENS. https://t.co/t6gFZgNoKFIts sooooo true. https://t.co/7PgG6E0q1C@sjarvis Thank YOU.The @GOP promises to go out guns blazing. Because theyre not responsible for enough gun deaths across America. https://t.co/sN3foOCTel@united Please learn how to run an airline.Hi. We are in the middle of a coup. This is how it happens.@NancyPelosi, another one killed by guns in Lincoln today. What will you do about it? https://t.co/6hM1dG0BHF #shootatweet@zeldman Still not a fan. These things say more about designers ineptitude than client issues.@natts @astronautpnguin Ok, Dave. Correct me. Was I wrong? I will apologize if I was.Oh shit! I need a ride to the burn unit! https://t.co/zmBd7C5w31Remember that thing about @facebook allowing advertisers to target by race? Someone used it! https://t.co/QnIPzgYPxL@matt_timmons @austinkleon I AM kidding. I was going to watch it later, but after what Im hearing nope.When you refer to job cuts as a percentage you are dehumanizing people. This is 350 PEOPLE. It matters. https://t.co/2yzzE8DtFj@gruber We should reinstate Pete Rose and ban YOU from baseball. Just the worst fan.And when you fire 350 people and your investors cheer you need to wonder about what kind of people youre in bed with. Fuck Wall St.This election has revealed that men can stumble dick-first into success while women have to walk a tightrope to just have a chance.That Composition book kickstarter reminds me of the time a restaurant tried to sell me a $20 pretzel. Fuck your $20 pretzel. Cheap is best.Hey @facebook! Half these posts LITERALLY have guns for sale in the title. Thats hard to flag how?!? https://t.co/vE01yJXLgODesigners need to focus on fixing problems for those who need help, not creating luxury versions of things that work just fine.@de5igner @madebyfew Yeah, Im not crazy about this. And a little concerned that the conference retweeted it.Trust me, Im capable of being angry about two things. Three if you wanna press it. https://t.co/lPhfz5LQtBLove it. https://t.co/ppT3EELz5Q@gruber Sigh. You did. Pretty great.The last few days have the tinge of a coup on them. Like democracy is being pulled out from under us.Fair enough. Ill go do that. And hey! You go fuck yourself! https://t.co/8POhLNmYlqCheck out #gunsonfacebookrightnow and see how seriously @facebook is taking its gun ban. They could pull these tonight if they wanted to.My friend @romanmars makes good radio. Join me in supporting Radiotopia 2016. https://t.co/Ri5XJjFDbYLooks like I've had my last Yuengling. https://t.co/L40YuaGEeo@SenatorBoxer, another one killed by guns in Los Angeles today. What will you do about it? https://t.co/V5lJ1hWcCf #shootatweetYou can buy this RIGHT NOW on @facebook. https://t.co/KO7k3vFBO9LOL. I havent  even made the joke about how much designers love making things with lay-flat spines. Way to project.Says the man who felt the need to jump on Twitter to continue berating a woman. https://t.co/bxTn2fwstF@mat Well, actually Mat. In fairness, were not racist, but all lives matter.Hey fools! Go see this movie! my friend @sonia__harris designed a bunch of stuff for it. She's all talented and shi https://t.co/B5YcOJN94TDesigners, I only pick on you because I love you and I know youre capable of so much more. But somewhere along the line you forgot.and right now, people need you like they havent needed you in a long time.Help me with a thing. Go to @facebook. Find a gun for sale. Post a screenshot here with #gunsonfacebookrightnow.White men realize they dont HAVE to come to the defense of tech corporations, right?@SenFeinstein, 2 people were injured by guns in Los Angeles today. What will you do about it? https://t.co/EBk9OEqBp4 #shootatweet@SherylCababa @austinkleon Yes, but when the disenfranchised pull out sharpies at a restaurant and mark the plates they get arrested.@dansinker No. meet me in Berlin next week. Well start a whole government in exile thing.@SenFeinstein, another one killed by guns in Sacramento today. What will you do about it? https://t.co/5NLbMxJmnn #shootatweetMaybe stop building things for Wall St and go back to making things people need.An update on taking down @facebooks guns from @jbsibley: https://t.co/aBQiTYDxC7I block gun nuts, racists, alt-right pricks, and mens group turds. Subscribe to my @blocktogether and benefit : https://t.co/sRLiJetnnd@gruber Only YOU would root for Cleveland over Americas sweethearts.@ToddRoss Yeah, it was visceral enough in the comic. And I hear its worse on film. I don't really feel a need to experience that.All those times you were interrupted? Told to smile more? Passed over for a job? In 10 days you can elect Americas first woman president.Some of you may not realize that the 2016 Mansplaining Olympics started this morning.  https://t.co/IJWyUclVQlBlatant lie. They harass and suspend us for reporting illegal gun sales. https://t.co/KVR5dSvR88Cubs be cubbin.Thanks to everyone at #MxF2016 for being an amazing audience today.</td>\n",
       "      <td>1</td>\n",
       "    </tr>\n",
       "    <tr>\n",
       "      <th>3</th>\n",
       "      <td>11569</td>\n",
       "      <td>Jet Life Stadium</td>\n",
       "      <td>False start... good God.Jets could activate Devin Smith, Breno Giacomini from PUP list vs. Browns, says Todd Bowles #jets  https://t.co/BRwGm4MueQI'm about to call an audible... \"KILL KILL\" #Jets https://t.co/na0J8xRzkaGoal to go. Browns just flew down the field.  #JetsBilal Powell's Huge 35-Yard TD Run! | #Jets  https://t.co/lJoDPzLQdvFireman Ed sighting #Jets https://t.co/Ah39mI6rmMWell that's a great start.@pyetti My wife put me in the padded room.3 and out! GRRRRRRRR@KirkCassels we brought it up on this showLook how empty that stadium is!  A combined 2 wins will do that...Still waiting for @TheSheikh to post photos... :(They are taking Fitz out to check him. Here's Petty.Revis getting fried again.@KirkCassels thx manOMG he was killed #JetsGame day!Just launched new podcast:  \"244: Pissed-Patrick\" at  https://t.co/sjrztrkFFT #Jets #PissedPatrickNice catch Peake.Mangold in walking boot, unlikely to play Sunday  https://t.co/TtKjfU7H9G #jetsI think he has no skin on his nose.@BrandonCappelli tell him I said heyThese receivers are doing whatever they want. TACKLE!  #JetsPetty makes his NFL debut. #JetsWe made them look like the Patriots. https://t.co/YbGv4g2bwWRaking the leaves is looking good soon. ugh@120Terp very visual#J_E_T_S_JETS_JETS_JETS!! LET'S GO!!!!! #JETSPOWELL! BOOM! TDWell the #Jets looked HORRENDOUS!OMG Come one!!! Working on Pryor.If the #Jets go 3 and out... I'll lose it.Another 3 and out.  #jetsSee... I've been saying trade him and get some picks. https://t.co/SXCJr6M6yaWashington Coach Pulls Out Dong, Pees Freely Before The Masses During Game - Former Jets Coach.   https://t.co/PFkARF6WGZNo Huddle #JetsAny Jets fan ever feel like we are on the WORST roller coaster ride ever imagined?I hate it when Mangold doesn't play...And that's a WGottlieb: Will Darrelle Revis retire after this year? https://t.co/QE3DMbtuy0Garbage TDNY Jets Injury Update: Nick Mangold and Muhammad Wilkerson https://t.co/t4aUpYT7BL5 straight plays of nothing to start the game. #JetsPowell has always been explosive.Twitter: 70 Percent Of NFL Live Stream Audience Under 35  https://t.co/QZ0ykxB7igBecause of the challenge of the spot, Fitz can slip back in with not missing a play. Better luck next time Petty. No NFL debut. #JetsStandford is running around everywhere..REVIS! YOU ARE BROKEN!Who's ready for two consecutive wins?! #JetsRyan Fitzpatrick back under center for Jets, ready to \"show them\" https://t.co/jnFT7ipTcSI'm about to throw something.Guess I'm watching the game... https://t.co/OgpW2myHAkMy thoughts on the #Jets QB situation ----&gt;https://t.co/sjrztrCgxrFitz goes right back in... No Petty.Kill Kill@DaveKrayhem I don't... sorry... I'm from PAChipping away. Gain of 4.  #Jets</td>\n",
       "      <td>0</td>\n",
       "    </tr>\n",
       "    <tr>\n",
       "      <th>4</th>\n",
       "      <td>14763</td>\n",
       "      <td>Portland, Oregon, USA</td>\n",
       "      <td>@mwhuss As an introvert, I actually like the alone time. Also, cuts down on commute time :)@zuhrisaifudin45 Thank you!@garrettdimon Great hustle man!Working on Project One for the @treehouse Full Stack JavaScript Techdegree   Code: https://t.co/o48Dh8Irmy   https://t.co/378NfCcsShBig props to Wayne for bringing everyone together to talk about improving diversity and https://t.co/vnnxryFLP3@bencareynyt Hi Benedict - I'd like to invite you to be our featured guest on the Educate Yourself podcast :) https://t.co/50qhAxrjBi@kristina_basham @treehouse is an online affordable technology school with 75,000 students. We take people from zero to job ready :)This carpet of Ginkgo Tree leaves is just amazing #fall #nofilter #portland #beauty https://t.co/Dg2UhtFA4DAshley did it. Your turn.  https://t.co/jiWad3u9Pr@wjgilmore GoruckWe have more amazing guests lined up for the Educate Yourself podcast! :) Android: https://t.co/CAjl9a4h5v iTunes: https://t.co/50qhAxrjBiWhat I carry around in my backpack all the time #goruck #fitness #spartan #training https://t.co/lwokqKcTZW@KatieMSmith I'd have to check - I'm not sure actually!@zapatoche Never because I use a @GORUCK. Lifetime guaranteedI think it's time to buy some Microsoft stock. Apple might be on the long term decline.Using the All Gender Restroom today was strange at first but then it became totally normal. It https://t.co/j2Hd9OKv1W.@superbooked looks really exciting. Great work @danielmallPlease subscribe and rate our new podcast: #EducateYourself  Thanks!   iTunes: https://t.co/50qhAxrjBi  Play Store: https://t.co/CAjl9a4h5v@nikiforovalex18 Congrats!!! It's so awesome what you've achieved.Monty, our Great Dane, finally got ahold of my slippers. Doesn't stop me from wearing them to https://t.co/qQZfHhh2ndHere's to all you Tesla-Elon-doubters. Bam :) https://t.co/bSJ1B9JDym@danielmall @AaronGustafson @davatron5000 Excited to hear how this goes. My excitement and loyalty to Apple is waning.See you in one hour! :) https://t.co/VxvlVXepM1@hihellosm Wireless Beats. Love emI got the opportunity to speak to an awesome group of high school kids about jobs, technology https://t.co/Jmk2t57kto@codejake Just changed that to \"use\". Good call :)An amazing piece of art depicting Martin Luther King Jr, made of dominos https://t.co/DwTSlVlB3Y@wjgilmore Ah I think it's the GR1Gettin' my learn on. Working on Project One in the Treehouse Full Stack JavaScript Techdegree https://t.co/mJ4TWJNdOoI shared one of my best productivity tips here: \"How to use your calendar to maximize your effectiveness https://t.co/4bca9h5Kh2How to hack your calendar to maximize your effectiveness  https://t.co/hNVcwghHpO  #effectiveness #productivity #timemanagementBlast from the past. 15-year old me, getting my Eagle Scout award in Boy Scouts. Couldn't have https://t.co/fF6dpmMkcZ</td>\n",
       "      <td>1</td>\n",
       "    </tr>\n",
       "  </tbody>\n",
       "</table>\n",
       "</div>"
      ],
      "text/plain": [
       "   UserID               Location  \\\n",
       "0  1737    In my head              \n",
       "1  2391    San Francisco           \n",
       "2  2426    SF                      \n",
       "3  11569   Jet Life Stadium        \n",
       "4  14763   Portland, Oregon, USA   \n",
       "\n",
       "                                                                                                                                                                                                                                                                                                                                                                                                                                                                                                                                                                                                                                                                                                                                                                                                                                                                                                                                                                                                                                                                                                                                                                                                                                                                                                                                                                                                                                                                                                                                                                                                                                                                                                                                                                                                                                                                                                                                                                                                                                                                                                                                                                                                                                                                                                                                                                                                                                                                                                                                                                                                                                                                                                                                                                                                                                                                                                                                                                                                                                                                                                                                                                                                                                                                                                                                                                                                                                                                                                                                                                                                                                                                                                                                                                                                                                                                                                                                                                                                                                                                                                                                                                                                                                                                                                                                                                                                                                                                                                                                                                                                                                                                                                                                                                                                                                                                                                                                                                                                                                                                                                                                                                                                                                                                                                                                                                                                                                                                                                                                                                                                                                                                                                                                                                                                                                                                                                                                                                                                                                                                                                                                                                                                                                                                                                                                                                                                                                                                                                                                                                                                                                                                                                                                                                                                                                                                                                                                                                                                                                                                                                                                                                                                                                                                                                                                                                                                                                                                                                                                                                                                                                                                                                                                                                                                                                                                                                                                                                                                                                                                                                                                                                                                                                                                                                                                                                                                                                                                                                                                                                                                                                                                                                                                                                                                                                                                                                                                                                                                                                                                                                                                                                                                                                                                                                                                                                                                                                                                                                                                                                                                                                                                                                                                        Text  \\\n",
       "0  Listening to @nehanarkhede talk about event streams at #ATO2016 and thinking about how to continue evolving our Kafka-based pipeline.Related, man would I love to have @erinscafe as a coach for my kids.If youre interested in processing streaming data at scale, @MailChimp is hiring: https://t.co/MYxL4mCkaC Come see us if youre at #ATO2016.@rachaelmaddux Just when I think I couldnt love her more.If you coach or have kids in youth sports, this is well worth reading. https://t.co/BEdjKmZ28H@_raven_io @pwnela Im well past the three month mark and still not sure Im setwhich is cool, but could be distressing if unexpected.Moving on to discussion of IoT, ML, and AR by @GregU. (Lots of buzzwords there.) Just learning of @PTC's acquisition of @Vuforia. #ATO2016Wish @nehanarkhede had asked how many were actively using Kafka. I suspect it would have still been sizable. https://t.co/OVy8zXHeiT@erinscafe @salrelish I'm pretty reserved, but if this happened to a team I coached or had kid onI don't know how I'd handle it. Appalling.@KyFaSt Congrats! Super happy for you and happy to get to work with you as any sort of engineeror just plain person.Starting day at #ATO2016. Looking forward to keynotesparticularly @nehanarkhede and talks through the day. Come see us at @MailChimp booth@SwiftOnSecurity @dcloues Wow. Imagine the world in which cat pictures are the stupidest thing. Can one get transferred into that world?@nehanarkhede @jessfraz Wondered whether you'd mention in your keynote. LOLed when you did.Also related, youth sports is full of coaches like @erinscafe who give so much time and care to kids. The bad ones shouldn't be tolerated.@nehanarkhede Im hoping that wasnt as cringeworthy at I fear it was. Looking forward to your keynote.Just listened to @solrac901  discuss @ApacheSpot. Thinking of possible new applications for ML at @MailChimp. #ATO2016@adickerson  @ComfortablySmug I could not be more intrigued than by a topic recommended by both Drudge and @jdickerson.@skamille cats don't care. Just look at the expression.@Michael_Tsunam1 @samnesmith Important clarification. I was concerned for a bit there.@bakins Im so sorry.@JessicaMauerhan If youre still around and interested, I held some swag for you at the booth. Were to the right as you enter building.                                                                                                                                                                                                                                                                                                                                                                                                                                                                                                                                                                                                                                                                                                                                                                                                                                                                                                                                                                                                                                                                                                                                                                                                                                                                                                                                                                                                                                                                                                                                                                                                                                                                                                                                                                                                                                                                                                                                                                                                                                                                                                                                                                                                                                                                                                                                                                                                                                                                                                                                                                                                                                                                                                                                                                                                                                                                                                                                                                                                                                                                                                                                                                                                                                                                                                                                                                                                                                                                                                                                                                                                                                                                                                                                                                                                                                                                                                                                                                                                                                                                                                                                                                                                                                                                                                                                                                                                                                                                                                                                                                                                                                                                                                                                                                                                                                                                                                                                                                                                                                                                                                                                                                                                                                                                                                                                                                                                                                                                                                                                                                                                                                                                                                                                                                                                                                                                                                                                                                                                                                                                                                                                                                                                                                                                                                                                                                                                                                                                                                                                                                                                                                                                                                                                                                                                                                                                                                                                                                                                                                                                                                                                                                                                                                                                                                                                                                 \n",
       "1  @NathanFGao The generous view: Maybe it's just impossible to lead two public companies at the same time well.If Huma Abedin can get out of bed and face the world every day, then nothing should be stopping me.@bonaventuresoft oh no god no. Worst job.   I appreciate the sentiment!@presserb @petshopboys the fox in oaklandBottle of Fat Tire I found in the back of my fridge when I got home, I love you.Facebook lets advertisers exclude users by race https://t.co/DDmz3feofO@eldescanso I normally do all my work in google.Uninstall @ Mule Gallery https://t.co/UuNJKfChkv@buzz so good!@andymatic Yeaaah. It's sadly Yahoo!-like.   A lot of people are using it, but we haven't deciding what it's for.Going to @petshopboys tonight!   I'll be the one in front of the stage who smells like wet dog.@mknepprath Oh thanks. It just exposes the flaw in that sort of rating system.@dansinker Then you are living some Harlan Ellison level science horror.California is ridiculous. It's not like we're out of room, not by a longshot.   I bet housing density is good for water conservation too.See also: People who think \"gay\" is an insult. https://t.co/sW73Mw9KGXGOAT Salon with Annalee Newitz! https://t.co/lSTSJiXxtOThanks to internet trolls, that episode of Black Mirror seems so real. (Fortunately, Google reviews aren't a major https://t.co/saJCkbUmrn@willsh well done, sirPet Shop Boys. Still going strong. https://t.co/vGZQUkmaoo@j3sse_pub @petshopboys Go West was the pre encore closer. I got right up to the rail for that one.@thelastwalt fight them!!!The first step to clear communication is a clear goal.   It's surprising how many organizations lack sufficiently clear goals.Fun fact: Franz Kafka was a workers' compensation insurance claims officer.Is a sleeping bag a sandwich?Happy place https://t.co/FmLDQVavBJ@tonx the frightful paradox of 2016@MikeIsaac @fmanjoo Start with this!  Easy plus tasty plus fast. https://t.co/3YS56Ee50TVice has fewer neonazis. https://t.co/OZsWAkeFnXI tried it when I couldn't sleep. Worked!  Neuroscience Says Listening to This Song Reduces Anxiety by Up to 65%  https://t.co/kHLOQHVgIN@migurski yes!! Me tooThis is upsetting. https://t.co/OCsq9LFU9e@rtraister Very little of it joyful.@atrubens Maybe @twitter is bad at you.@j3sse_pub @petshopboys here you go! https://t.co/yWFqbGDS0jDAMMIT.   That untitled document I just closed without saving were my rescued revisions. I didn't realize my machine crashed. fml@clearwriter I never work in Word anymore. I'm always in the cloud, so I've lost my twitchy save finger.And man, there are gross exes. There are gross exes who pop up in your professional life. And then there's what she is dealing with.Tonight's vocabulary term is \"American Bottom\"  https://t.co/UGSq0Wuy7vRaise your hand if you're sadly resigned to @twitter's ultimate demise.What's this? https://t.co/wXViGJFlSh@timbuckwalter thats the part of our operation thats#'s open to the publicAnti-aging lasers come in more than one variety. https://t.co/MbzTwPs5Ms@scarequotes Makes you think, huh?When I'd get anxious, I used to think about how hard Obama's days were and how he got through it. Then I switched to Hillary. Now it's Huma.In the public pool shower, I stepped on something sharp. Pulled a tiny four-leaf clover ear stud out of my foot.  Unpacking the symbolism.This video gives new meaning to \"party of Lincoln\"  https://t.co/ms69JX2E1n  h/t @kathrynyu@summersumz thank you!@steveportigal @billder OK, now that's going on a mug.@NathanFGao I don't think so. But I think there was a hope that jack had special powers. Some return of the king myth.I agree. Twitter users do amazing things using the platform. Product approach is \"Now, respond to hate speech with https://t.co/PmaSqww9aH@robynkanner Ice cream@thelastwalt (Do not fight them)@clearwriter I am so cranky now.@hhavrilesky @TheCut It continues to creep me out when people refer to me as my dog's \"mom\", which is the common parlance in SF.Also, you have to know your audience.   A spreadsheet full of responses to a marketing survey is not that.In case there was any doubt bros are currently in charge of the future https://t.co/oiMCuLeeis@tonx right?!?@bjheinley @kowitz Boy do I have answer for you!  https://t.co/zQwBhuHVqYThe pleasant is the enemy of the transcendent. https://t.co/GgHfTaHGJB@yodamay This could be my new favorite band.Tell all your friends in Berlin.  November 7th, go to my delightful, practical workshop on collaborative research!  https://t.co/6ZLGeeFABU@BenKennerly Hmm, I'll put that investigation in my queue.It started in the office across the hall from us. Another era.@michael One of the reviewers gave us 5 stars for the free clinic and sex work.@MaxTemkin just a couple more weeks@lmc @nczeitgeist They should rebrand to \"The Clowns\" in honor of 2016@kathrynyu @dansays Well, now I have a new life list item! Seeing that!Listening to Piketty's *Capital* is relaxing.The most mundane frustrations have inspired great art.I suddenly have 2 xtra GA tix. If you and a friend can be near the Fox in an hour, they can be yours.@tonx sounds rightMaybe we should read these aloud at Mule Nog this year, like Mean Tweets.   https://t.co/6ViwRJZLodThere is only one communication strategy. Be specific, interesting, & useful to your audience.  Yes, this is hard. No, there is no shortcut.This is the only media I am going to expose myself to for the remainder of 2016. https://t.co/94pMUKSYX5NB: @Annaleen recommends Ghostland: An American History in Haunted Places by Colin Dickey https://t.co/eUB0dwLcQ5In this impassioned plea, @TimGunn is talking fashion, but it applies to all designers who disdain \"regular\" people: https://t.co/MNvCm941oS@atrubens @twitter Prepare your torches, I guess.@mnik bugs bunny style!                                                                                                                                                                                                                                                                                                                                                                                                                                                                                                                                                                                                                                                                                                                                                                                                                                                                                                                                                                                                                                                                                                                                                                                                                                                                                                                                                                                                                                                                                                                                                                                                                                                                                                                                                                                                                                                                                                                                                                                                                                                                                                                                                                                                                                                                                                                                                                                                                                                                                                                                                                                                                                                                                                                                                                                                                                                                                                                                                                                                                                                                                                                                                                                                                                                                                                                                                                                                                                                                                                                                                                                                                                                                                                                                                 \n",
       "2  @MikeIsaac Maybe the dog is cashing the checks Mike.@thelancearthur So good.Yeah. It was.  https://t.co/CW84E3GB7bWhen your mom opens her mouth. https://t.co/syNVYmvGrqAnd for the love of god, stop trying to make the Apple Watch a thing. Its not a thing. Its Apples third nipple. Move on.This is true only in a world where men and women are held to the same standard. https://t.co/vAU7bqRFOZ@FFWglobal Hey! Been trying to get in touch with you people. Gimme a shout. (It's a good thing.)@SenFeinstein, another one killed by guns in Lincoln today. What will you do about it? https://t.co/6hM1dG0BHF #shootatweet@SenFeinstein, another one killed by guns in Los Angeles today. What will you do about it? https://t.co/V5lJ1hWcCf #shootatweetDesigners have conflated being in the service industry with being servants. We stopped solving problems and became lapdogs to luxury brands.@NancyPelosi, another one killed by guns in Los Angeles today. What will you do about it? https://t.co/NbtGsxMYLq #shootatweetFind your voice. It matters and we need it. New from @abookapart: Demystifying Public Speaking https://t.co/bks79xQJKWYou also arent required to defend how advertising works. https://t.co/yFEnQk76z3@SenatorBoxer, another one killed by guns in Los Angeles today. What will you do about it? https://t.co/NbtGsxMYLq #shootatweetThe best strategy the @GOP has come up with against a VERY qualified woman is the men in her life are idiots.   [many women are nodding]@united You are bad at what you do. Amazingly bad.@designhawg @JoeGermuska @knightlab Awesome. We need them to do good work.Facebook allows advertisers to exclude users by race. Exclude. Users. By. Race. https://t.co/aZLejiqmByYou can either design for brands or you can design for people. You cant do both.@MikeIsaac OMG thats rich.Leaving your mark on everything like a spraying tomcat isnt creativity. Its just entitlement writ large.@NancyPelosi, another one killed by guns in Sacramento today. What will you do about it? https://t.co/5NLbMxJmnn #shootatweet@NancyPelosi, another one killed by guns in Los Angeles today. What will you do about it? https://t.co/V5lJ1hWcCf #shootatweetPlease try to remember that Julian Assange is fighting extradition for RAPE charges. Hes not a patriot. Hes a selfish entitled asshole.Hey, thanks for spoiling that new Walking Dead episode, everybody.@Real_TJ_Thomas @gruber Well, yeah. I think we all agree there.Guess what, dudes? You were BORN privileged. As the great Ann Richards once said, you were born on third base, thinking you hit a triple.EVEN IF all the failures Trump accuses Hillary of ARE true (theyre not) theyd still be just a small fraction of his ACTUAL failures.This email bullshit is why LBJ had all his conversations on the shitter.@SenatorBoxer, another one killed by guns in Sacramento today. What will you do about it? https://t.co/5NLbMxJmnn #shootatweet@parisvega @espiekermann No. You cant even compare the two.@MikeHosier Yeah, the luxury watch did great. And NO.@ChappellTracker Were talking about Frozen, right?@drwave @beaucolburn Id throw in #choad too.@halvorson Is that Gilmore Girls?Do not argue with eggs.@NancyPelosi, 2 people were injured by guns in Los Angeles today. What will you do about it? https://t.co/EBk9OEqBp4 #shootatweetI honestly cant take two more weeks of this shit.Is anyone here a brand manager? https://t.co/IFqJc90E5h@designhawg One would think.@SenFeinstein, another one killed by guns in Los Angeles today. What will you do about it? https://t.co/NbtGsxMYLq #shootatweetSo what? Its illegal for one.  https://t.co/gszEoiwAItI thought about it. Youre an idiot. https://t.co/iN1WPXqga6Agreed. https://t.co/VIMRejMlzG@SenatorBoxer, 2 people were injured by guns in Los Angeles today. What will you do about it? https://t.co/EBk9OEqBp4 #shootatweetWhats wrong with the Comp Kickstarter? It doesnt pass the Warhol Coke test. We dont need luxury versions of comm https://t.co/S81O3jTO6uYou can buy this rifle RIGHT NOW on @facebook. https://t.co/J7lN7Fde0aand when youre running a gun marketplace, as @facebook is, you can target your gun sales to whites only. https://t.co/ihUwWZBZAZEverything. https://t.co/OT7X69AiraTheres no happier sight in sports than Tony Romo holding a clipboard.@SenatorBoxer, another one killed by guns in Lincoln today. What will you do about it? https://t.co/6hM1dG0BHF #shootatweetWere CITIZENS, asshole. CITIZENS. https://t.co/t6gFZgNoKFIts sooooo true. https://t.co/7PgG6E0q1C@sjarvis Thank YOU.The @GOP promises to go out guns blazing. Because theyre not responsible for enough gun deaths across America. https://t.co/sN3foOCTel@united Please learn how to run an airline.Hi. We are in the middle of a coup. This is how it happens.@NancyPelosi, another one killed by guns in Lincoln today. What will you do about it? https://t.co/6hM1dG0BHF #shootatweet@zeldman Still not a fan. These things say more about designers ineptitude than client issues.@natts @astronautpnguin Ok, Dave. Correct me. Was I wrong? I will apologize if I was.Oh shit! I need a ride to the burn unit! https://t.co/zmBd7C5w31Remember that thing about @facebook allowing advertisers to target by race? Someone used it! https://t.co/QnIPzgYPxL@matt_timmons @austinkleon I AM kidding. I was going to watch it later, but after what Im hearing nope.When you refer to job cuts as a percentage you are dehumanizing people. This is 350 PEOPLE. It matters. https://t.co/2yzzE8DtFj@gruber We should reinstate Pete Rose and ban YOU from baseball. Just the worst fan.And when you fire 350 people and your investors cheer you need to wonder about what kind of people youre in bed with. Fuck Wall St.This election has revealed that men can stumble dick-first into success while women have to walk a tightrope to just have a chance.That Composition book kickstarter reminds me of the time a restaurant tried to sell me a $20 pretzel. Fuck your $20 pretzel. Cheap is best.Hey @facebook! Half these posts LITERALLY have guns for sale in the title. Thats hard to flag how?!? https://t.co/vE01yJXLgODesigners need to focus on fixing problems for those who need help, not creating luxury versions of things that work just fine.@de5igner @madebyfew Yeah, Im not crazy about this. And a little concerned that the conference retweeted it.Trust me, Im capable of being angry about two things. Three if you wanna press it. https://t.co/lPhfz5LQtBLove it. https://t.co/ppT3EELz5Q@gruber Sigh. You did. Pretty great.The last few days have the tinge of a coup on them. Like democracy is being pulled out from under us.Fair enough. Ill go do that. And hey! You go fuck yourself! https://t.co/8POhLNmYlqCheck out #gunsonfacebookrightnow and see how seriously @facebook is taking its gun ban. They could pull these tonight if they wanted to.My friend @romanmars makes good radio. Join me in supporting Radiotopia 2016. https://t.co/Ri5XJjFDbYLooks like I've had my last Yuengling. https://t.co/L40YuaGEeo@SenatorBoxer, another one killed by guns in Los Angeles today. What will you do about it? https://t.co/V5lJ1hWcCf #shootatweetYou can buy this RIGHT NOW on @facebook. https://t.co/KO7k3vFBO9LOL. I havent  even made the joke about how much designers love making things with lay-flat spines. Way to project.Says the man who felt the need to jump on Twitter to continue berating a woman. https://t.co/bxTn2fwstF@mat Well, actually Mat. In fairness, were not racist, but all lives matter.Hey fools! Go see this movie! my friend @sonia__harris designed a bunch of stuff for it. She's all talented and shi https://t.co/B5YcOJN94TDesigners, I only pick on you because I love you and I know youre capable of so much more. But somewhere along the line you forgot.and right now, people need you like they havent needed you in a long time.Help me with a thing. Go to @facebook. Find a gun for sale. Post a screenshot here with #gunsonfacebookrightnow.White men realize they dont HAVE to come to the defense of tech corporations, right?@SenFeinstein, 2 people were injured by guns in Los Angeles today. What will you do about it? https://t.co/EBk9OEqBp4 #shootatweet@SherylCababa @austinkleon Yes, but when the disenfranchised pull out sharpies at a restaurant and mark the plates they get arrested.@dansinker No. meet me in Berlin next week. Well start a whole government in exile thing.@SenFeinstein, another one killed by guns in Sacramento today. What will you do about it? https://t.co/5NLbMxJmnn #shootatweetMaybe stop building things for Wall St and go back to making things people need.An update on taking down @facebooks guns from @jbsibley: https://t.co/aBQiTYDxC7I block gun nuts, racists, alt-right pricks, and mens group turds. Subscribe to my @blocktogether and benefit : https://t.co/sRLiJetnnd@gruber Only YOU would root for Cleveland over Americas sweethearts.@ToddRoss Yeah, it was visceral enough in the comic. And I hear its worse on film. I don't really feel a need to experience that.All those times you were interrupted? Told to smile more? Passed over for a job? In 10 days you can elect Americas first woman president.Some of you may not realize that the 2016 Mansplaining Olympics started this morning.  https://t.co/IJWyUclVQlBlatant lie. They harass and suspend us for reporting illegal gun sales. https://t.co/KVR5dSvR88Cubs be cubbin.Thanks to everyone at #MxF2016 for being an amazing audience today.   \n",
       "3  False start... good God.Jets could activate Devin Smith, Breno Giacomini from PUP list vs. Browns, says Todd Bowles #jets  https://t.co/BRwGm4MueQI'm about to call an audible... \"KILL KILL\" #Jets https://t.co/na0J8xRzkaGoal to go. Browns just flew down the field.  #JetsBilal Powell's Huge 35-Yard TD Run! | #Jets  https://t.co/lJoDPzLQdvFireman Ed sighting #Jets https://t.co/Ah39mI6rmMWell that's a great start.@pyetti My wife put me in the padded room.3 and out! GRRRRRRRR@KirkCassels we brought it up on this showLook how empty that stadium is!  A combined 2 wins will do that...Still waiting for @TheSheikh to post photos... :(They are taking Fitz out to check him. Here's Petty.Revis getting fried again.@KirkCassels thx manOMG he was killed #JetsGame day!Just launched new podcast:  \"244: Pissed-Patrick\" at  https://t.co/sjrztrkFFT #Jets #PissedPatrickNice catch Peake.Mangold in walking boot, unlikely to play Sunday  https://t.co/TtKjfU7H9G #jetsI think he has no skin on his nose.@BrandonCappelli tell him I said heyThese receivers are doing whatever they want. TACKLE!  #JetsPetty makes his NFL debut. #JetsWe made them look like the Patriots. https://t.co/YbGv4g2bwWRaking the leaves is looking good soon. ugh@120Terp very visual#J_E_T_S_JETS_JETS_JETS!! LET'S GO!!!!! #JETSPOWELL! BOOM! TDWell the #Jets looked HORRENDOUS!OMG Come one!!! Working on Pryor.If the #Jets go 3 and out... I'll lose it.Another 3 and out.  #jetsSee... I've been saying trade him and get some picks. https://t.co/SXCJr6M6yaWashington Coach Pulls Out Dong, Pees Freely Before The Masses During Game - Former Jets Coach.   https://t.co/PFkARF6WGZNo Huddle #JetsAny Jets fan ever feel like we are on the WORST roller coaster ride ever imagined?I hate it when Mangold doesn't play...And that's a WGottlieb: Will Darrelle Revis retire after this year? https://t.co/QE3DMbtuy0Garbage TDNY Jets Injury Update: Nick Mangold and Muhammad Wilkerson https://t.co/t4aUpYT7BL5 straight plays of nothing to start the game. #JetsPowell has always been explosive.Twitter: 70 Percent Of NFL Live Stream Audience Under 35  https://t.co/QZ0ykxB7igBecause of the challenge of the spot, Fitz can slip back in with not missing a play. Better luck next time Petty. No NFL debut. #JetsStandford is running around everywhere..REVIS! YOU ARE BROKEN!Who's ready for two consecutive wins?! #JetsRyan Fitzpatrick back under center for Jets, ready to \"show them\" https://t.co/jnFT7ipTcSI'm about to throw something.Guess I'm watching the game... https://t.co/OgpW2myHAkMy thoughts on the #Jets QB situation ---->https://t.co/sjrztrCgxrFitz goes right back in... No Petty.Kill Kill@DaveKrayhem I don't... sorry... I'm from PAChipping away. Gain of 4.  #Jets                                                                                                                                                                                                                                                                                                                                                                                                                                                                                                                                                                                                                                                                                                                                                                                                                                                                                                                                                                                                                                                                                                                                                                                                                                                                                                                                                                                                                                                                                                                                                                                                                                                                                                                                                                                                                                                                                                                                                                                                                                                                                                                                                                                                                                                                                                                                                                                                                                                                                                                                                                                                                                                                                                                                                                                                                                                                                                                                                                                                                                                                                                                                                                                                                                                                                                                                                                                                                                                                                                                                                                                                                                                                                                                                                                                                                                                                                                                                                                                                                                                                                                                                                                                                                                                                                                                                                                                                                                                                                                                                                                                                                                                                                                                                                                                                                                                                                                                                                                                                                                                                                                                                                                                                                                                                                                                                                                                                                                                                                                                                                                                                                                                                                                                                                                                                                                                                                                                                                                                                                                                                                                                                                                                                                                                                                                                                                                                                                                                                                                                                                                                                                                                                                                                                                                                                                                                                                                                \n",
       "4  @mwhuss As an introvert, I actually like the alone time. Also, cuts down on commute time :)@zuhrisaifudin45 Thank you!@garrettdimon Great hustle man!Working on Project One for the @treehouse Full Stack JavaScript Techdegree   Code: https://t.co/o48Dh8Irmy   https://t.co/378NfCcsShBig props to Wayne for bringing everyone together to talk about improving diversity and https://t.co/vnnxryFLP3@bencareynyt Hi Benedict - I'd like to invite you to be our featured guest on the Educate Yourself podcast :) https://t.co/50qhAxrjBi@kristina_basham @treehouse is an online affordable technology school with 75,000 students. We take people from zero to job ready :)This carpet of Ginkgo Tree leaves is just amazing #fall #nofilter #portland #beauty https://t.co/Dg2UhtFA4DAshley did it. Your turn.  https://t.co/jiWad3u9Pr@wjgilmore GoruckWe have more amazing guests lined up for the Educate Yourself podcast! :) Android: https://t.co/CAjl9a4h5v iTunes: https://t.co/50qhAxrjBiWhat I carry around in my backpack all the time #goruck #fitness #spartan #training https://t.co/lwokqKcTZW@KatieMSmith I'd have to check - I'm not sure actually!@zapatoche Never because I use a @GORUCK. Lifetime guaranteedI think it's time to buy some Microsoft stock. Apple might be on the long term decline.Using the All Gender Restroom today was strange at first but then it became totally normal. It https://t.co/j2Hd9OKv1W.@superbooked looks really exciting. Great work @danielmallPlease subscribe and rate our new podcast: #EducateYourself  Thanks!   iTunes: https://t.co/50qhAxrjBi  Play Store: https://t.co/CAjl9a4h5v@nikiforovalex18 Congrats!!! It's so awesome what you've achieved.Monty, our Great Dane, finally got ahold of my slippers. Doesn't stop me from wearing them to https://t.co/qQZfHhh2ndHere's to all you Tesla-Elon-doubters. Bam :) https://t.co/bSJ1B9JDym@danielmall @AaronGustafson @davatron5000 Excited to hear how this goes. My excitement and loyalty to Apple is waning.See you in one hour! :) https://t.co/VxvlVXepM1@hihellosm Wireless Beats. Love emI got the opportunity to speak to an awesome group of high school kids about jobs, technology https://t.co/Jmk2t57kto@codejake Just changed that to \"use\". Good call :)An amazing piece of art depicting Martin Luther King Jr, made of dominos https://t.co/DwTSlVlB3Y@wjgilmore Ah I think it's the GR1Gettin' my learn on. Working on Project One in the Treehouse Full Stack JavaScript Techdegree https://t.co/mJ4TWJNdOoI shared one of my best productivity tips here: \"How to use your calendar to maximize your effectiveness https://t.co/4bca9h5Kh2How to hack your calendar to maximize your effectiveness  https://t.co/hNVcwghHpO  #effectiveness #productivity #timemanagementBlast from the past. 15-year old me, getting my Eagle Scout award in Boy Scouts. Couldn't have https://t.co/fF6dpmMkcZ                                                                                                                                                                                                                                                                                                                                                                                                                                                                                                                                                                                                                                                                                                                                                                                                                                                                                                                                                                                                                                                                                                                                                                                                                                                                                                                                                                                                                                                                                                                                                                                                                                                                                                                                                                                                                                                                                                                                                                                                                                                                                                                                                                                                                                                                                                                                                                                                                                                                                                                                                                                                                                                                                                                                                                                                                                                                                                                                                                                                                                                                                                                                                                                                                                                                                                                                                                                                                                                                                                                                                                                                                                                                                                                                                                                                                                                                                                                                                                                                                                                                                                                                                                                                                                                                                                                                                                                                                                                                                                                                                                                                                                                                                                                                                                                                                                                                                                                                                                                                                                                                                                                                                                                                                                                                                                                                                                                                                                                                                                                                                                                                                                                                                                                                                                                                                                                                                                                                                                                                                                                                                                                                                                                                                                                                                                                                                                                                                                                                                                                                                                                                                                                                                                                                                                                           \n",
       "\n",
       "   Supporter  \n",
       "0  1          \n",
       "1  1          \n",
       "2  1          \n",
       "3  0          \n",
       "4  1          "
      ]
     },
     "execution_count": 10,
     "metadata": {},
     "output_type": "execute_result"
    }
   ],
   "source": [
    "# Show 'Supporter' column by merge.\n",
    "merge_tweets = pd.merge(new_tweets, ground_truth, on='UserID')\n",
    "\n",
    "merge_tweets.head()"
   ]
  },
  {
   "cell_type": "code",
   "execution_count": 11,
   "metadata": {
    "scrolled": true
   },
   "outputs": [
    {
     "name": "stdout",
     "output_type": "stream",
     "text": [
      "<class 'scipy.sparse.csr.csr_matrix'>\n",
      "[[0.         0.         0.         ... 0.         0.         0.        ]\n",
      " [0.         0.         0.         ... 0.         0.         0.        ]\n",
      " [0.         0.         0.02194481 ... 0.         0.         0.        ]\n",
      " ...\n",
      " [0.02100724 0.01587684 0.00577047 ... 0.         0.01444637 0.        ]\n",
      " [0.         0.         0.         ... 0.         0.         0.        ]\n",
      " [0.         0.         0.         ... 0.         0.         0.        ]]\n"
     ]
    }
   ],
   "source": [
    "# Dataframe hashtag aggregate. \n",
    "\n",
    "# To obtain vector representation of each user, you may group all the \n",
    "# hashtags/handles by each user and then create a dataframe where each \n",
    "# line has a user and all her hashtags/handles. Then \n",
    "# call tfidfVectorzier() on that dataframe.\n",
    "\n",
    "vectorizer = sk_text.TfidfVectorizer(\n",
    "    stop_words='english',\n",
    "    max_features=1000, # 2000 takes a while...\n",
    "                                     \n",
    "    # .1 Means \"ignore terms that appear in less than 1% of the documents\".\n",
    "                                     \n",
    "    # The default min_df is 1, which means \"ignore terms that appear in less than 1 document\". \n",
    "    # Thus, the default setting does not ignore any terms.        \n",
    "    min_df=500, \n",
    "                             \n",
    "    # If .5: ignore terms that appear in more than 50% of the documents.\n",
    "    #max_df=.9, \n",
    ")\n",
    "\n",
    "matrix = vectorizer.fit_transform(merge_tweets.Text)\n",
    "print(type(matrix))         \n",
    "tfidf_data = matrix.toarray() \n",
    "print(tfidf_data)"
   ]
  },
  {
   "cell_type": "code",
   "execution_count": 12,
   "metadata": {},
   "outputs": [
    {
     "name": "stdout",
     "output_type": "stream",
     "text": [
      "<class 'scipy.sparse.csr.csr_matrix'>\n",
      "[[0. 0. 0. 0. 0.]\n",
      " [0. 0. 0. 0. 0.]\n",
      " [0. 0. 0. 0. 0.]\n",
      " ...\n",
      " [0. 0. 0. 0. 0.]\n",
      " [0. 0. 0. 0. 0.]\n",
      " [0. 0. 0. 0. 0.]]\n"
     ]
    }
   ],
   "source": [
    "# Vectorize Location.\n",
    "\n",
    "vectorizer2 = sk_text.TfidfVectorizer(\n",
    "    stop_words='english',\n",
    "    max_features=1000, # Try 2000?\n",
    "                                     \n",
    "    # .1 Means \"ignore terms that appear in less than 1% of the documents\".\n",
    "                                     \n",
    "    # The default min_df is 1, which means \"ignore terms that appear in less than 1 document\". \n",
    "    # Thus, the default setting does not ignore any terms.        \n",
    "    min_df=500, \n",
    "                             \n",
    "    # If .5: ignore terms that appear in more than 50% of the documents.\n",
    "    #max_df=.9, \n",
    ")\n",
    "\n",
    "matrix2 = vectorizer2.fit_transform(merge_tweets.Location)\n",
    "print(type(matrix2))         \n",
    "tfidf_data2 = matrix2.toarray() \n",
    "print(tfidf_data2)"
   ]
  },
  {
   "cell_type": "code",
   "execution_count": 13,
   "metadata": {},
   "outputs": [],
   "source": [
    "count_vect_df = pd.DataFrame(matrix.todense(), columns=vectorizer.get_feature_names())\n",
    "\n",
    "# Location count vectorizer.\n",
    "count_vect_df2 = pd.DataFrame(matrix2.todense(), columns=vectorizer2.get_feature_names())\n",
    "\n",
    "merge_tweets = pd.concat([merge_tweets, count_vect_df], axis=1)\n",
    "merge_tweets = pd.concat([merge_tweets, count_vect_df2], axis=1)"
   ]
  },
  {
   "cell_type": "markdown",
   "metadata": {},
   "source": [
    "## *Use train_test_split() to split data into training and test sets, where 20 percent of the records go to test set.*"
   ]
  },
  {
   "cell_type": "code",
   "execution_count": 14,
   "metadata": {
    "scrolled": true
   },
   "outputs": [],
   "source": [
    "# Dataframe with hashtags & handles & ground truth.\n",
    "X = merge_tweets.drop(columns=['UserID','Text','Location','Supporter'])\n",
    "# Trump or Clinton 'Supporter' values.\n",
    "y = merge_tweets['Supporter'].values"
   ]
  },
  {
   "cell_type": "code",
   "execution_count": 15,
   "metadata": {
    "scrolled": false
   },
   "outputs": [
    {
     "name": "stdout",
     "output_type": "stream",
     "text": [
      "(19515, 1005)\n",
      "(19515,)\n"
     ]
    }
   ],
   "source": [
    "# Shapes show.\n",
    "print(X.shape)\n",
    "print(y.shape)\n",
    "\n",
    "# 19515 average in total and split 19515 records to 2 parts."
   ]
  },
  {
   "cell_type": "code",
   "execution_count": 16,
   "metadata": {},
   "outputs": [],
   "source": [
    "# Split dataset into train and test data.\n",
    "# Predict. Test the size. How many records you want to go to test data. 20% of the records will go to test data (.2)\n",
    "# and remaining to to other set. Specify the first 3 parameter correctly.\n",
    "\n",
    "\n",
    "# random_state: is used for initializing the internal random number generator, which will \n",
    "# decide the splitting of data into train and test indices.\n",
    "X_train, X_test, y_train, y_test = train_test_split(X, y, test_size=0.3, random_state=4, stratify=y)"
   ]
  },
  {
   "cell_type": "markdown",
   "metadata": {},
   "source": [
    "# Task 1.2\n",
    "- **Train Decision Tree, SVM, Logistic Regression, and Neural Networks.** In your report describe the features that you used for each classifier."
   ]
  },
  {
   "cell_type": "markdown",
   "metadata": {},
   "source": [
    "## *Decision Tree*"
   ]
  },
  {
   "cell_type": "code",
   "execution_count": 17,
   "metadata": {},
   "outputs": [
    {
     "data": {
      "text/plain": [
       "DecisionTreeClassifier(class_weight=None, criterion='gini', max_depth=None,\n",
       "            max_features=None, max_leaf_nodes=None,\n",
       "            min_impurity_decrease=0.0, min_impurity_split=None,\n",
       "            min_samples_leaf=1, min_samples_split=2,\n",
       "            min_weight_fraction_leaf=0.0, presort=False, random_state=None,\n",
       "            splitter='best')"
      ]
     },
     "execution_count": 17,
     "metadata": {},
     "output_type": "execute_result"
    }
   ],
   "source": [
    "dtree = tree.DecisionTreeClassifier()\n",
    "dtree = dtree.fit(X_train, y_train)\n",
    "\n",
    "# Print out the model.\n",
    "dtree.fit(X_train, y_train)\n",
    "\n",
    "# These make predictions on the testing set... \n",
    "# Apply model on X_test.\n",
    "#y_pred = dtree.predict(X_test)\n",
    "\n",
    "#print(\"Confusion Matrix:\")\n",
    "#print(metrics.confusion_matrix(y_test, y_pred))\n",
    "#print('Precision Score:', metrics.precision_score(y_test, y_pred, average= 'weighted'))\n",
    "#print('Recall Score:', metrics.recall_score(y_test, y_pred, average= 'weighted'))\n",
    "#print('F1 Score:', metrics.f1_score(y_test, y_pred, average= 'weighted'))            "
   ]
  },
  {
   "cell_type": "markdown",
   "metadata": {},
   "source": [
    "## *SVM*"
   ]
  },
  {
   "cell_type": "code",
   "execution_count": 18,
   "metadata": {},
   "outputs": [
    {
     "data": {
      "text/plain": [
       "SVC(C=1.0, cache_size=200, class_weight=None, coef0=0.0,\n",
       "  decision_function_shape='ovr', degree=3, gamma='auto', kernel='rbf',\n",
       "  max_iter=-1, probability=False, random_state=None, shrinking=True,\n",
       "  tol=0.001, verbose=False)"
      ]
     },
     "execution_count": 18,
     "metadata": {},
     "output_type": "execute_result"
    }
   ],
   "source": [
    "# Probability: boolean, optional (default=False)  \n",
    "# Whether to enable probability estimates.\n",
    "\n",
    "# 2 most important parameters:\n",
    "# C: float, optional (default=1.0)\n",
    "# Setting gamma used in kernel to ‘auto’ will use 1 / n features\n",
    "\n",
    "# Use support vector machine. C and gamma. \n",
    "# C: how much penalty to give to misclassfied records.\n",
    "\n",
    "scaling = MinMaxScaler(feature_range=(-1,1)).fit(X_train)\n",
    "X_train = scaling.transform(X_train)\n",
    "X_test = scaling.transform(X_test)\n",
    "\n",
    "# 700 got 4min 53s.\n",
    "clf = SVC(C=1.0, gamma='auto', cache_size=700)\n",
    "\n",
    "# Print out the model.\n",
    "clf.fit(X_train, y_train)\n",
    "\n",
    "#y_pred = clf.predict(X_test)\n",
    "\n",
    "#print(\"Confusion Matrix:\")\n",
    "#print(metrics.confusion_matrix(y_test, y_pred)) \n",
    "#print('Precision Score:', metrics.precision_score(y_test, y_pred, average= 'weighted'))\n",
    "#print('Recall Score:', metrics.recall_score(y_test, y_pred, average= 'weighted'))\n",
    "#print('F1 Score:', metrics.f1_score(y_test, y_pred, average= 'weighted'))"
   ]
  },
  {
   "cell_type": "markdown",
   "metadata": {},
   "source": [
    "## *Logistic Regression*"
   ]
  },
  {
   "cell_type": "code",
   "execution_count": 19,
   "metadata": {},
   "outputs": [
    {
     "data": {
      "text/plain": [
       "LogisticRegression(C=1.0, class_weight=None, dual=False, fit_intercept=True,\n",
       "          intercept_scaling=1, max_iter=200, multi_class='auto',\n",
       "          n_jobs=None, penalty='l2', random_state=None, solver='lbfgs',\n",
       "          tol=0.0001, verbose=0, warm_start=False)"
      ]
     },
     "execution_count": 19,
     "metadata": {},
     "output_type": "execute_result"
    }
   ],
   "source": [
    "# Set a few optional parameter.\n",
    "lr = LogisticRegression(solver='lbfgs', # Optimized waiting descent.\n",
    "                        max_iter=200, \n",
    "                        multi_class='auto') \n",
    "\n",
    "# Print out the model.\n",
    "lr.fit(X_train, y_train)\n",
    "\n",
    "#y_pred = lr.predict(X_test)\n",
    "\n",
    "#print(\"Confusion Matrix:\")\n",
    "#print(metrics.confusion_matrix(y_test, y_pred)) \n",
    "#print('Precision Score:', metrics.precision_score(y_test, y_pred, average= 'weighted'))\n",
    "#print('Recall Score:', metrics.recall_score(y_test, y_pred, average= 'weighted'))\n",
    "#print('F1 Score:', metrics.f1_score(y_test, y_pred, average= 'weighted'))"
   ]
  },
  {
   "cell_type": "markdown",
   "metadata": {},
   "source": [
    "## *Neural Networks*"
   ]
  },
  {
   "cell_type": "code",
   "execution_count": 20,
   "metadata": {
    "scrolled": true
   },
   "outputs": [
    {
     "data": {
      "text/plain": [
       "MLPClassifier(activation='relu', alpha=0.0001, batch_size='auto', beta_1=0.9,\n",
       "       beta_2=0.999, early_stopping=False, epsilon=1e-08,\n",
       "       hidden_layer_sizes=(30, 30, 30), learning_rate='constant',\n",
       "       learning_rate_init=0.001, max_iter=1000, momentum=0.9,\n",
       "       n_iter_no_change=10, nesterovs_momentum=True, power_t=0.5,\n",
       "       random_state=None, shuffle=True, solver='adam', tol=0.0001,\n",
       "       validation_fraction=0.1, verbose=False, warm_start=False)"
      ]
     },
     "execution_count": 20,
     "metadata": {},
     "output_type": "execute_result"
    }
   ],
   "source": [
    "scaler = StandardScaler()\n",
    "scaler.fit(X_train)\n",
    "X_train = scaler.transform(X_train)\n",
    "X_test = scaler.transform(X_test)\n",
    "\n",
    "# Multi-layer Perception Model (mlp)\n",
    "# hidden_layer_sizes: 3 hidden layers, each has 30 neurons.\n",
    "# 10, 20, 30, or 100... as long as your machine can handle that. Keep as many layer as you want.\n",
    "\n",
    "mlp = MLPClassifier(hidden_layer_sizes=(30,30,30), \n",
    "                    solver='adam', # Adam optimization algo. Variation of gradient descent.\n",
    "                    max_iter=1000) # Create neural network with hidden layers. Go up to 1000 iterations. \n",
    "\n",
    "# Print out the model.\n",
    "mlp.fit(X_train, y_train)"
   ]
  },
  {
   "cell_type": "code",
   "execution_count": 21,
   "metadata": {},
   "outputs": [],
   "source": [
    "# Output report.\n",
    "# print(metrics.classification_report(y_test, y_pred))\n",
    "\n",
    "#print(\"Confusion Matrix:\")\n",
    "#print(metrics.confusion_matrix(y_test, y_pred, labels=[0, 1]))\n",
    "#print('Precision Score:', metrics.precision_score(y_test, y_pred, average= 'weighted'))\n",
    "#print('Recall Score:', metrics.recall_score(y_test, y_pred, average= 'weighted'))\n",
    "#print('F1 Score:', metrics.f1_score(y_test, y_pred, average= 'weighted'))"
   ]
  },
  {
   "cell_type": "markdown",
   "metadata": {},
   "source": [
    "# Task 1.3\n",
    "- **Train k-NN model.** In your report describe the features that you used for k-NN. **Perform parameter tuning on k-NN model. Apply 5-fold cross validation** and use **grid search** to find the best K value for k-NN model. Set scoring metric to F1 score (F-measure). Use the best K value identified from grid search to train your k-NN model. **Plot the F1 score against K value based on the results you achieved from grid search.**"
   ]
  },
  {
   "cell_type": "markdown",
   "metadata": {},
   "source": [
    "## *Train k-NN Model*"
   ]
  },
  {
   "cell_type": "code",
   "execution_count": 22,
   "metadata": {
    "scrolled": true
   },
   "outputs": [
    {
     "data": {
      "text/plain": [
       "KNeighborsClassifier(algorithm='auto', leaf_size=30, metric='minkowski',\n",
       "           metric_params=None, n_jobs=None, n_neighbors=12, p=2,\n",
       "           weights='uniform')"
      ]
     },
     "execution_count": 22,
     "metadata": {},
     "output_type": "execute_result"
    }
   ],
   "source": [
    "# Create KNN classifier\n",
    "knn = KNeighborsClassifier(n_neighbors = 12)\n",
    "# Fit the classifier to the data\n",
    "knn.fit(X_train,y_train)"
   ]
  },
  {
   "cell_type": "code",
   "execution_count": 23,
   "metadata": {},
   "outputs": [
    {
     "data": {
      "text/plain": [
       "0.6161926723033564"
      ]
     },
     "execution_count": 23,
     "metadata": {},
     "output_type": "execute_result"
    }
   ],
   "source": [
    "knn.score(X_test, y_test)"
   ]
  },
  {
   "cell_type": "code",
   "execution_count": null,
   "metadata": {},
   "outputs": [],
   "source": [
    "%%time\n",
    "# Instantiate the grid.\n",
    "\n",
    "# Verbose: Verbosity. Higher it is, the more messages.\n",
    "# Refit: Estimator using the best found parameters on the whole dataset.\n",
    "\n",
    "# So, the maximum performance that can be obtain always is using n_jobs = -1. | None is default (1).\n",
    "grid = GridSearchCV(knn, param_grid, cv=5, n_jobs=2, scoring='f1_weighted') # call grid search CV on my model. 5 fold validation (cv=5).\n",
    "\n",
    "# Fit the classifier to the data.\n",
    "# knn.fit(X_train,y_train)\n",
    "\n",
    "grid.fit(X_train, y_train) # Fit the grid with data.\n",
    "# train this model on your data. every value here to create a model. specify 49 different kvalue/models."
   ]
  },
  {
   "cell_type": "code",
   "execution_count": null,
   "metadata": {},
   "outputs": [],
   "source": [
    "# View the complete results (list of named tuples).\n",
    "means = grid.cv_results_['mean_test_score']\n",
    "\n",
    "means"
   ]
  },
  {
   "cell_type": "code",
   "execution_count": null,
   "metadata": {},
   "outputs": [],
   "source": [
    "# Plot the results.\n",
    "plt.plot(range(1,21),means)\n",
    "plt.xlabel('Value of K for KNN')\n",
    "plt.ylabel('F1 score based on Cross-Validation')\n",
    "plt.show()"
   ]
  },
  {
   "cell_type": "code",
   "execution_count": null,
   "metadata": {},
   "outputs": [],
   "source": [
    "# Identify the best model.\n",
    "print(grid.best_score_)\n",
    "print(grid.best_params_)\n",
    "print(grid.best_estimator_)"
   ]
  },
  {
   "cell_type": "code",
   "execution_count": null,
   "metadata": {},
   "outputs": [],
   "source": [
    "# Train model using all data and the best known parameters.\n",
    "# Using best n_neighbors from grid search. Not finished.\n",
    "knn = KNeighborsClassifier(n_neighbors=1, weights='uniform')\n",
    "knn.fit(X_train, y_train)\n",
    "y_pred =  knn.predict(X_test)\n",
    "\n",
    "print(metrics.precision_score(y_test, y_pred, average= 'weighted'))\n",
    "print(metrics.recall_score(y_test, y_pred, average= 'weighted'))\n",
    "print(metrics.f1_score(y_test, y_pred, average= 'weighted'))\n",
    "print(metrics.confusion_matrix(y_test, y_pred))"
   ]
  },
  {
   "cell_type": "markdown",
   "metadata": {},
   "source": [
    "# Task 1.4\n",
    "- **Using the test set**, compute the confusion matrix, the precision, recall and F-measure for (1) Decision Tree, (2) SVM, (3) Logistic Regression, (4) Neural Networks, and (5) k-NN. For k-NN model, use the best K value identified from grid search. **Compare their performance and include your conclusions in your report**"
   ]
  },
  {
   "cell_type": "code",
   "execution_count": 29,
   "metadata": {},
   "outputs": [
    {
     "name": "stdout",
     "output_type": "stream",
     "text": [
      "Decision tree confusion matrix:\n",
      "[[ 894  827]\n",
      " [1176 1006]]\n",
      "\n",
      "Decision tree precision:\n",
      "0.5488270594653574\n",
      "\n",
      "Decision tree recall:\n",
      "0.461044912923923\n",
      "\n",
      "Decision tree F-measure:\n",
      "0.501120797011208\n"
     ]
    }
   ],
   "source": [
    "#Decision Tree\n",
    "dtree_pred_class = dtree.predict(X_test)\n",
    "\n",
    "dtreeConfusion = metrics.confusion_matrix(y_test, dtree_pred_class, labels=[0, 1])\n",
    "dtreeRecall = metrics.recall_score(y_test, dtree_pred_class)\n",
    "dtreePrecision = metrics.precision_score(y_test, dtree_pred_class)\n",
    "dtreeF1 = metrics.f1_score(y_test, dtree_pred_class)\n",
    "\n",
    "#confusion matrix\n",
    "print(\"Decision tree confusion matrix:\")\n",
    "print(dtreeConfusion)\n",
    "print(\"\")\n",
    "#precision\n",
    "print(\"Decision tree precision:\")\n",
    "print(dtreePrecision)\n",
    "print(\"\")\n",
    "#recall\n",
    "print(\"Decision tree recall:\")\n",
    "print(dtreeRecall)\n",
    "print(\"\")\n",
    "#f-measure\n",
    "print(\"Decision tree F-measure:\")\n",
    "print(dtreeF1)"
   ]
  },
  {
   "cell_type": "code",
   "execution_count": 28,
   "metadata": {},
   "outputs": [
    {
     "name": "stdout",
     "output_type": "stream",
     "text": [
      "SVM confusion matrix:\n",
      "[[ 436 1285]\n",
      " [  43 2139]]\n",
      "\n",
      "SVM precision:\n",
      "0.6247079439252337\n",
      "\n",
      "SVM recall:\n",
      "0.9802933088909258\n",
      "\n",
      "SVM F-measure:\n",
      "0.7631109525508384\n"
     ]
    }
   ],
   "source": [
    "#SVM\n",
    "SVM_pred_class = clf.predict(X_test)\n",
    "\n",
    "SVMconfusion = metrics.confusion_matrix(y_test, SVM_pred_class, labels=[0, 1])\n",
    "SVMrecall = metrics.recall_score(y_test, SVM_pred_class)\n",
    "SVMprecision = metrics.precision_score(y_test, SVM_pred_class)\n",
    "SVMf1 = metrics.f1_score(y_test, SVM_pred_class)\n",
    "\n",
    "#confusion matrix\n",
    "print(\"SVM confusion matrix:\")\n",
    "print(SVMconfusion)\n",
    "print(\"\")\n",
    "#precision\n",
    "print(\"SVM precision:\")\n",
    "print(SVMprecision)\n",
    "print(\"\")\n",
    "#recall\n",
    "print(\"SVM recall:\")\n",
    "print(SVMrecall)\n",
    "print(\"\")\n",
    "#f-measure\n",
    "print(\"SVM F-measure:\")\n",
    "print(SVMf1)"
   ]
  },
  {
   "cell_type": "code",
   "execution_count": 30,
   "metadata": {},
   "outputs": [
    {
     "name": "stdout",
     "output_type": "stream",
     "text": [
      "Logistic regression confusion matrix:\n",
      "[[1262  459]\n",
      " [ 640 1542]]\n",
      "\n",
      "Logistic regression precision:\n",
      "0.7706146926536732\n",
      "\n",
      "Logistic regression recall:\n",
      "0.7066911090742438\n",
      "\n",
      "Logistic regression F-measure:\n",
      "0.7372699019842219\n"
     ]
    }
   ],
   "source": [
    "#Logistic Regression\n",
    "lr_pred_class = lr.predict(X_test)\n",
    "\n",
    "lrConfusion = metrics.confusion_matrix(y_test, lr_pred_class, labels=[0, 1])\n",
    "lrRecall = metrics.recall_score(y_test, lr_pred_class)\n",
    "lrPrecision = metrics.precision_score(y_test, lr_pred_class)\n",
    "lrF1 = metrics.f1_score(y_test, lr_pred_class)\n",
    "\n",
    "#confusion matrix\n",
    "print(\"Logistic regression confusion matrix:\")\n",
    "print(lrConfusion)\n",
    "print(\"\")\n",
    "#precision\n",
    "print(\"Logistic regression precision:\")\n",
    "print(lrPrecision)\n",
    "print(\"\")\n",
    "#recall\n",
    "print(\"Logistic regression recall:\")\n",
    "print(lrRecall)\n",
    "print(\"\")\n",
    "#f-measure\n",
    "print(\"Logistic regression F-measure:\")\n",
    "print(lrF1)"
   ]
  },
  {
   "cell_type": "code",
   "execution_count": 31,
   "metadata": {},
   "outputs": [
    {
     "name": "stdout",
     "output_type": "stream",
     "text": [
      "Neural Networks confusion matrix:\n",
      "[[1123  598]\n",
      " [ 611 1571]]\n",
      "\n",
      "Neural Networks precision:\n",
      "0.7242969110189027\n",
      "\n",
      "Neural Networks recall:\n",
      "0.7199816681943172\n",
      "\n",
      "Neural Networks F-measure:\n",
      "0.7221328430245921\n"
     ]
    }
   ],
   "source": [
    "#Neural Networks\n",
    "mlp_pred_class = mlp.predict(X_test)\n",
    "\n",
    "mlpConfusion = metrics.confusion_matrix(y_test, mlp_pred_class, labels=[0, 1])\n",
    "mlpRecall = metrics.recall_score(y_test, mlp_pred_class)\n",
    "mlpPrecision = metrics.precision_score(y_test, mlp_pred_class)\n",
    "mlpF1 = metrics.f1_score(y_test, mlp_pred_class)\n",
    "\n",
    "#confusion matrix\n",
    "print(\"Neural Networks confusion matrix:\")\n",
    "print(mlpConfusion)\n",
    "print(\"\")\n",
    "#precision\n",
    "print(\"Neural Networks precision:\")\n",
    "print(mlpPrecision)\n",
    "print(\"\")\n",
    "#recall\n",
    "print(\"Neural Networks recall:\")\n",
    "print(mlpRecall)\n",
    "print(\"\")\n",
    "#f-measure\n",
    "print(\"Neural Networks F-measure:\")\n",
    "print(mlpF1)"
   ]
  },
  {
   "cell_type": "code",
   "execution_count": null,
   "metadata": {},
   "outputs": [],
   "source": []
  }
 ],
 "metadata": {
  "kernelspec": {
   "display_name": "Python 3",
   "language": "python",
   "name": "python3"
  },
  "language_info": {
   "codemirror_mode": {
    "name": "ipython",
    "version": 3
   },
   "file_extension": ".py",
   "mimetype": "text/x-python",
   "name": "python",
   "nbconvert_exporter": "python",
   "pygments_lexer": "ipython3",
   "version": "3.7.1"
  }
 },
 "nbformat": 4,
 "nbformat_minor": 2
}
